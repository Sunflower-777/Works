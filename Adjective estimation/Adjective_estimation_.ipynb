{
  "nbformat": 4,
  "nbformat_minor": 0,
  "metadata": {
    "colab": {
      "name": "Adjective estimation .ipynb",
      "provenance": [],
      "collapsed_sections": []
    },
    "kernelspec": {
      "name": "python3",
      "display_name": "Python 3"
    }
  },
  "cells": [
    {
      "cell_type": "markdown",
      "metadata": {
        "id": "-fQZs_C7do8d",
        "colab_type": "text"
      },
      "source": [
        "## 内積計算を使って、色に当てられた形容詞をもとにその画像に当てはまる形容詞を、以下二つの数値パターンで算出してみた\n",
        "- 画像に含まれる色(rgb値)の平均値\n",
        "- 画像に含まれる色(rgb値)の最頻値"
      ]
    },
    {
      "cell_type": "code",
      "metadata": {
        "id": "YGjNDQ0RAa2v",
        "colab_type": "code",
        "colab": {}
      },
      "source": [
        "from google.colab import drive\n",
        "drive.mount('/content/drive')"
      ],
      "execution_count": null,
      "outputs": []
    },
    {
      "cell_type": "code",
      "metadata": {
        "id": "W803oRkAAo2c",
        "colab_type": "code",
        "colab": {}
      },
      "source": [
        "from PIL import Image\n",
        "import numpy as np\n",
        "import os\n",
        "\n",
        "# filepathで指定した画像ファイルを読み込み、その画像のRGB値の平均をNumpyのArrayで【行ベクトルで】返す関数　ext_mean_rgb(filepath)\n",
        "def ext_mean_rgb(filepath):\n",
        "  image = np.array(Image.open(filepath).convert('RGB')).reshape(-1,3)\n",
        "  rgb_mean = np.array([np.mean(image[:,0]),np.mean(image[:,1]),np.mean(image[:,2])])\n",
        "  return rgb_mean"
      ],
      "execution_count": null,
      "outputs": []
    },
    {
      "cell_type": "code",
      "metadata": {
        "id": "vJ0MSbGMAy4m",
        "colab_type": "code",
        "colab": {}
      },
      "source": [
        "import numpy as np\n",
        "from scipy.spatial import distance\n",
        "\n",
        "# RGB値をnumpy array、qcolor=np.array([r,g,b])で与えられると[赤,橙,黄,緑,青,紫,ピンク,白,グレー,黒]の重みを成分とする10次元ベクトルが出力される関数gen_color_vec(qcolor)\n",
        "def gen_color_vec(qcolor):\n",
        "  colorvec=np.array([])\n",
        "  palette=np.array(\n",
        "      [\n",
        "       [255,0,0], #赤\n",
        "      [255,102,0],  #橙\n",
        "      [255,255,0],  #黄\n",
        "      [0,128,0],  #緑\n",
        "      [0,0,255],  #青\n",
        "      [128,0,128],  #紫\n",
        "      [255,0,255],  #ピンク\n",
        "      [255,255,255],  #白\n",
        "      [128,128,128],  #グレー\n",
        "      [0,0,0] #黒\n",
        "      ])\n",
        "  for col in palette:\n",
        "    colorvec=np.append(colorvec,distance.euclidean(col,qcolor))\n",
        "  colorvec=1-colorvec/np.linalg.norm(colorvec,np.inf)\n",
        "  return colorvec"
      ],
      "execution_count": null,
      "outputs": []
    },
    {
      "cell_type": "code",
      "metadata": {
        "id": "25BI51UxA90a",
        "colab_type": "code",
        "colab": {
          "base_uri": "https://localhost:8080/",
          "height": 347
        },
        "outputId": "085b8d7a-0a12-48e0-a4a5-ea73e1bd6d41"
      },
      "source": [
        "import pandas as pd\n",
        "\n",
        "#印象語と色のデータ\n",
        "df = pd.read_csv('datas/color_image.csv', encoding='shift-jis')\n",
        "df"
      ],
      "execution_count": null,
      "outputs": [
        {
          "output_type": "execute_result",
          "data": {
            "text/html": [
              "<div>\n",
              "<style scoped>\n",
              "    .dataframe tbody tr th:only-of-type {\n",
              "        vertical-align: middle;\n",
              "    }\n",
              "\n",
              "    .dataframe tbody tr th {\n",
              "        vertical-align: top;\n",
              "    }\n",
              "\n",
              "    .dataframe thead th {\n",
              "        text-align: right;\n",
              "    }\n",
              "</style>\n",
              "<table border=\"1\" class=\"dataframe\">\n",
              "  <thead>\n",
              "    <tr style=\"text-align: right;\">\n",
              "      <th></th>\n",
              "      <th>Unnamed: 0</th>\n",
              "      <th>情熱的</th>\n",
              "      <th>強い</th>\n",
              "      <th>派手</th>\n",
              "      <th>元気</th>\n",
              "      <th>楽しい</th>\n",
              "      <th>かわいい</th>\n",
              "      <th>危険</th>\n",
              "      <th>落ち着いた</th>\n",
              "      <th>健康的</th>\n",
              "      <th>穏やかな</th>\n",
              "      <th>冷静</th>\n",
              "      <th>冷たい</th>\n",
              "      <th>気高い</th>\n",
              "      <th>神秘的</th>\n",
              "      <th>甘やか</th>\n",
              "      <th>自由な</th>\n",
              "      <th>純粋な</th>\n",
              "      <th>孤独な</th>\n",
              "      <th>寂しい</th>\n",
              "      <th>かっこいい</th>\n",
              "    </tr>\n",
              "  </thead>\n",
              "  <tbody>\n",
              "    <tr>\n",
              "      <th>0</th>\n",
              "      <td>red</td>\n",
              "      <td>1</td>\n",
              "      <td>1</td>\n",
              "      <td>1</td>\n",
              "      <td>1</td>\n",
              "      <td>0</td>\n",
              "      <td>0</td>\n",
              "      <td>1</td>\n",
              "      <td>0</td>\n",
              "      <td>0</td>\n",
              "      <td>0</td>\n",
              "      <td>0</td>\n",
              "      <td>0</td>\n",
              "      <td>0</td>\n",
              "      <td>0</td>\n",
              "      <td>0</td>\n",
              "      <td>0</td>\n",
              "      <td>0</td>\n",
              "      <td>0</td>\n",
              "      <td>0</td>\n",
              "      <td>1</td>\n",
              "    </tr>\n",
              "    <tr>\n",
              "      <th>1</th>\n",
              "      <td>orange</td>\n",
              "      <td>0</td>\n",
              "      <td>0</td>\n",
              "      <td>1</td>\n",
              "      <td>1</td>\n",
              "      <td>1</td>\n",
              "      <td>1</td>\n",
              "      <td>0</td>\n",
              "      <td>0</td>\n",
              "      <td>0</td>\n",
              "      <td>0</td>\n",
              "      <td>0</td>\n",
              "      <td>0</td>\n",
              "      <td>0</td>\n",
              "      <td>0</td>\n",
              "      <td>0</td>\n",
              "      <td>0</td>\n",
              "      <td>0</td>\n",
              "      <td>0</td>\n",
              "      <td>0</td>\n",
              "      <td>0</td>\n",
              "    </tr>\n",
              "    <tr>\n",
              "      <th>2</th>\n",
              "      <td>yellow</td>\n",
              "      <td>0</td>\n",
              "      <td>0</td>\n",
              "      <td>1</td>\n",
              "      <td>1</td>\n",
              "      <td>1</td>\n",
              "      <td>0</td>\n",
              "      <td>1</td>\n",
              "      <td>0</td>\n",
              "      <td>1</td>\n",
              "      <td>0</td>\n",
              "      <td>0</td>\n",
              "      <td>0</td>\n",
              "      <td>0</td>\n",
              "      <td>0</td>\n",
              "      <td>0</td>\n",
              "      <td>0</td>\n",
              "      <td>0</td>\n",
              "      <td>0</td>\n",
              "      <td>0</td>\n",
              "      <td>0</td>\n",
              "    </tr>\n",
              "    <tr>\n",
              "      <th>3</th>\n",
              "      <td>green</td>\n",
              "      <td>0</td>\n",
              "      <td>0</td>\n",
              "      <td>0</td>\n",
              "      <td>0</td>\n",
              "      <td>0</td>\n",
              "      <td>0</td>\n",
              "      <td>0</td>\n",
              "      <td>1</td>\n",
              "      <td>1</td>\n",
              "      <td>1</td>\n",
              "      <td>0</td>\n",
              "      <td>0</td>\n",
              "      <td>0</td>\n",
              "      <td>0</td>\n",
              "      <td>0</td>\n",
              "      <td>0</td>\n",
              "      <td>0</td>\n",
              "      <td>0</td>\n",
              "      <td>0</td>\n",
              "      <td>0</td>\n",
              "    </tr>\n",
              "    <tr>\n",
              "      <th>4</th>\n",
              "      <td>blue</td>\n",
              "      <td>0</td>\n",
              "      <td>0</td>\n",
              "      <td>0</td>\n",
              "      <td>0</td>\n",
              "      <td>0</td>\n",
              "      <td>0</td>\n",
              "      <td>0</td>\n",
              "      <td>0</td>\n",
              "      <td>0</td>\n",
              "      <td>0</td>\n",
              "      <td>1</td>\n",
              "      <td>1</td>\n",
              "      <td>0</td>\n",
              "      <td>0</td>\n",
              "      <td>0</td>\n",
              "      <td>1</td>\n",
              "      <td>0</td>\n",
              "      <td>0</td>\n",
              "      <td>0</td>\n",
              "      <td>0</td>\n",
              "    </tr>\n",
              "    <tr>\n",
              "      <th>5</th>\n",
              "      <td>purple</td>\n",
              "      <td>0</td>\n",
              "      <td>0</td>\n",
              "      <td>0</td>\n",
              "      <td>0</td>\n",
              "      <td>0</td>\n",
              "      <td>0</td>\n",
              "      <td>0</td>\n",
              "      <td>1</td>\n",
              "      <td>0</td>\n",
              "      <td>0</td>\n",
              "      <td>1</td>\n",
              "      <td>0</td>\n",
              "      <td>1</td>\n",
              "      <td>1</td>\n",
              "      <td>0</td>\n",
              "      <td>0</td>\n",
              "      <td>0</td>\n",
              "      <td>1</td>\n",
              "      <td>0</td>\n",
              "      <td>0</td>\n",
              "    </tr>\n",
              "    <tr>\n",
              "      <th>6</th>\n",
              "      <td>pink</td>\n",
              "      <td>0</td>\n",
              "      <td>0</td>\n",
              "      <td>0</td>\n",
              "      <td>0</td>\n",
              "      <td>0</td>\n",
              "      <td>1</td>\n",
              "      <td>0</td>\n",
              "      <td>0</td>\n",
              "      <td>0</td>\n",
              "      <td>0</td>\n",
              "      <td>0</td>\n",
              "      <td>0</td>\n",
              "      <td>0</td>\n",
              "      <td>0</td>\n",
              "      <td>1</td>\n",
              "      <td>0</td>\n",
              "      <td>0</td>\n",
              "      <td>0</td>\n",
              "      <td>0</td>\n",
              "      <td>0</td>\n",
              "    </tr>\n",
              "    <tr>\n",
              "      <th>7</th>\n",
              "      <td>white</td>\n",
              "      <td>0</td>\n",
              "      <td>0</td>\n",
              "      <td>0</td>\n",
              "      <td>0</td>\n",
              "      <td>0</td>\n",
              "      <td>0</td>\n",
              "      <td>0</td>\n",
              "      <td>1</td>\n",
              "      <td>0</td>\n",
              "      <td>0</td>\n",
              "      <td>0</td>\n",
              "      <td>1</td>\n",
              "      <td>1</td>\n",
              "      <td>1</td>\n",
              "      <td>0</td>\n",
              "      <td>1</td>\n",
              "      <td>1</td>\n",
              "      <td>0</td>\n",
              "      <td>0</td>\n",
              "      <td>0</td>\n",
              "    </tr>\n",
              "    <tr>\n",
              "      <th>8</th>\n",
              "      <td>gray</td>\n",
              "      <td>0</td>\n",
              "      <td>0</td>\n",
              "      <td>0</td>\n",
              "      <td>0</td>\n",
              "      <td>0</td>\n",
              "      <td>0</td>\n",
              "      <td>0</td>\n",
              "      <td>0</td>\n",
              "      <td>0</td>\n",
              "      <td>0</td>\n",
              "      <td>1</td>\n",
              "      <td>0</td>\n",
              "      <td>0</td>\n",
              "      <td>0</td>\n",
              "      <td>0</td>\n",
              "      <td>0</td>\n",
              "      <td>0</td>\n",
              "      <td>1</td>\n",
              "      <td>1</td>\n",
              "      <td>1</td>\n",
              "    </tr>\n",
              "    <tr>\n",
              "      <th>9</th>\n",
              "      <td>black</td>\n",
              "      <td>0</td>\n",
              "      <td>0</td>\n",
              "      <td>0</td>\n",
              "      <td>0</td>\n",
              "      <td>0</td>\n",
              "      <td>0</td>\n",
              "      <td>1</td>\n",
              "      <td>1</td>\n",
              "      <td>0</td>\n",
              "      <td>0</td>\n",
              "      <td>1</td>\n",
              "      <td>0</td>\n",
              "      <td>1</td>\n",
              "      <td>1</td>\n",
              "      <td>0</td>\n",
              "      <td>0</td>\n",
              "      <td>0</td>\n",
              "      <td>1</td>\n",
              "      <td>0</td>\n",
              "      <td>1</td>\n",
              "    </tr>\n",
              "  </tbody>\n",
              "</table>\n",
              "</div>"
            ],
            "text/plain": [
              "  Unnamed: 0  情熱的  強い  派手  元気  楽しい  かわいい  ...  神秘的  甘やか  自由な  純粋な  孤独な  寂しい  かっこいい\n",
              "0        red    1   1   1   1    0     0  ...    0    0    0    0    0    0      1\n",
              "1     orange    0   0   1   1    1     1  ...    0    0    0    0    0    0      0\n",
              "2     yellow    0   0   1   1    1     0  ...    0    0    0    0    0    0      0\n",
              "3      green    0   0   0   0    0     0  ...    0    0    0    0    0    0      0\n",
              "4       blue    0   0   0   0    0     0  ...    0    0    1    0    0    0      0\n",
              "5     purple    0   0   0   0    0     0  ...    1    0    0    0    1    0      0\n",
              "6       pink    0   0   0   0    0     1  ...    0    1    0    0    0    0      0\n",
              "7      white    0   0   0   0    0     0  ...    1    0    1    1    0    0      0\n",
              "8       gray    0   0   0   0    0     0  ...    0    0    0    0    1    1      1\n",
              "9      black    0   0   0   0    0     0  ...    1    0    0    0    1    0      1\n",
              "\n",
              "[10 rows x 21 columns]"
            ]
          },
          "metadata": {
            "tags": []
          },
          "execution_count": 4
        }
      ]
    },
    {
      "cell_type": "code",
      "metadata": {
        "id": "uhm8fEElBBN4",
        "colab_type": "code",
        "colab": {
          "base_uri": "https://localhost:8080/",
          "height": 66
        },
        "outputId": "e3c90a84-c2af-4265-abbf-9d87c6beba48"
      },
      "source": [
        "#印象語をリストで取り出す\n",
        "im = df.columns.values\n",
        "im = np.delete(im, 0)\n",
        "im"
      ],
      "execution_count": null,
      "outputs": [
        {
          "output_type": "execute_result",
          "data": {
            "text/plain": [
              "array(['情熱的', '強い', '派手', '元気', '楽しい', 'かわいい', '危険', '落ち着いた', '健康的',\n",
              "       '穏やかな', '冷静', '冷たい', '気高い', '神秘的', '甘やか', '自由な', '純粋な', '孤独な',\n",
              "       '寂しい', 'かっこいい'], dtype=object)"
            ]
          },
          "metadata": {
            "tags": []
          },
          "execution_count": 5
        }
      ]
    },
    {
      "cell_type": "code",
      "metadata": {
        "id": "efLnRVEdBGoB",
        "colab_type": "code",
        "colab": {
          "base_uri": "https://localhost:8080/",
          "height": 183
        },
        "outputId": "57ec59f9-1702-416a-a6c0-bde1fcbc52d2"
      },
      "source": [
        "#行列のみ取り出す\n",
        "color_image = df.iloc[:, 1:].values\n",
        "color_image"
      ],
      "execution_count": null,
      "outputs": [
        {
          "output_type": "execute_result",
          "data": {
            "text/plain": [
              "array([[1, 1, 1, 1, 0, 0, 1, 0, 0, 0, 0, 0, 0, 0, 0, 0, 0, 0, 0, 1],\n",
              "       [0, 0, 1, 1, 1, 1, 0, 0, 0, 0, 0, 0, 0, 0, 0, 0, 0, 0, 0, 0],\n",
              "       [0, 0, 1, 1, 1, 0, 1, 0, 1, 0, 0, 0, 0, 0, 0, 0, 0, 0, 0, 0],\n",
              "       [0, 0, 0, 0, 0, 0, 0, 1, 1, 1, 0, 0, 0, 0, 0, 0, 0, 0, 0, 0],\n",
              "       [0, 0, 0, 0, 0, 0, 0, 0, 0, 0, 1, 1, 0, 0, 0, 1, 0, 0, 0, 0],\n",
              "       [0, 0, 0, 0, 0, 0, 0, 1, 0, 0, 1, 0, 1, 1, 0, 0, 0, 1, 0, 0],\n",
              "       [0, 0, 0, 0, 0, 1, 0, 0, 0, 0, 0, 0, 0, 0, 1, 0, 0, 0, 0, 0],\n",
              "       [0, 0, 0, 0, 0, 0, 0, 1, 0, 0, 0, 1, 1, 1, 0, 1, 1, 0, 0, 0],\n",
              "       [0, 0, 0, 0, 0, 0, 0, 0, 0, 0, 1, 0, 0, 0, 0, 0, 0, 1, 1, 1],\n",
              "       [0, 0, 0, 0, 0, 0, 1, 1, 0, 0, 1, 0, 1, 1, 0, 0, 0, 1, 0, 1]])"
            ]
          },
          "metadata": {
            "tags": []
          },
          "execution_count": 6
        }
      ]
    },
    {
      "cell_type": "markdown",
      "metadata": {
        "id": "DclrQ7NYerdZ",
        "colab_type": "text"
      },
      "source": [
        "<h1>(パターン1)平均値で計算</h1>"
      ]
    },
    {
      "cell_type": "code",
      "metadata": {
        "id": "bayv09mCBKVK",
        "colab_type": "code",
        "colab": {}
      },
      "source": [
        "def result(x):\n",
        "  #印象語行列と重みを掛け算\n",
        "  image_weight = np.dot(color_image, x)\n",
        "  #列ごとに足し算し1行ベクトルにする\n",
        "  image_weight = np.sum(image_weight, axis = 0)\n",
        "  #最大値のインデックスを取得\n",
        "  max_im = np.where(image_weight == image_weight.max())\n",
        "\n",
        "  #最大値のインデックスから印象語を抽出し出力\n",
        "  for i in max_im:\n",
        "    print(im[i])"
      ],
      "execution_count": null,
      "outputs": []
    },
    {
      "cell_type": "code",
      "metadata": {
        "id": "j9b0KTu1A7AK",
        "colab_type": "code",
        "colab": {}
      },
      "source": [
        "#使った画像と平均rgb値と印象語\n",
        "filepath='画像へのパス'\n",
        "rgb_mean = ext_mean_rgb(filepath)\n",
        "x=gen_color_vec(rgb_mean)\n",
        "print(\"[r, g, b]:\", rgb_mean)\n",
        "result(x)\n",
        "Image.open(filepath)"
      ],
      "execution_count": null,
      "outputs": []
    },
    {
      "cell_type": "code",
      "metadata": {
        "id": "n9a-KyKgMe33",
        "colab_type": "code",
        "colab": {}
      },
      "source": [
        "#使った画像と平均rgb値と印象語\n",
        "filepath='画像へのパス'\n",
        "rgb_mean = ext_mean_rgb(filepath)\n",
        "x=gen_color_vec(rgb_mean).reshape(-1,1)\n",
        "print(\"[r, g, b]:\", rgb_mean)\n",
        "result(x)\n",
        "\n",
        "Image.open(filepath)"
      ],
      "execution_count": null,
      "outputs": []
    },
    {
      "cell_type": "markdown",
      "metadata": {
        "id": "d-HDNkYN5jg_",
        "colab_type": "text"
      },
      "source": [
        "<h1>(パターン2)最頻値で計算</h1>"
      ]
    },
    {
      "cell_type": "code",
      "metadata": {
        "id": "EpyAm6OnJe_D",
        "colab_type": "code",
        "colab": {}
      },
      "source": [
        "def ext_mode_rgb(filepath):\n",
        "  image = np.array(Image.open(filepath).convert('RGB')).reshape(-1,3)\n",
        "  #rgb値が出てくる回数を記録し、その記録の最大値を持つrgb値を出力\n",
        "  pixel_sum = []\n",
        "  pixel_colors = []\n",
        "  for col in image:\n",
        "    col = col.tolist()\n",
        "    if col in pixel_colors:\n",
        "      pixel_sum[pixel_colors.index(col)] += 1\n",
        "    else:\n",
        "      pixel_colors.append(col)\n",
        "      pixel_sum.append(1)\n",
        "\n",
        "  rgb_mode = pixel_colors[pixel_sum.index(max(pixel_sum))]\n",
        "  rgb_mode = np.array(rgb_mode) \n",
        "\n",
        "  return rgb_mode"
      ],
      "execution_count": null,
      "outputs": []
    },
    {
      "cell_type": "code",
      "metadata": {
        "id": "3pLnDsPmdoFy",
        "colab_type": "code",
        "colab": {}
      },
      "source": [
        "filepath='画像へのパス'\n",
        "rgb_mode = ext_mode_rgb(filepath)\n",
        "x=gen_color_vec(rgb_mode).reshape(-1,1)\n",
        "print(\"[r, g, b]:\", rgb_mode)\n",
        "result(x)\n",
        "Image.open(filepath)"
      ],
      "execution_count": null,
      "outputs": []
    },
    {
      "cell_type": "code",
      "metadata": {
        "id": "4z2JfbARm4XS",
        "colab_type": "code",
        "colab": {}
      },
      "source": [
        "filepath='画像へのパス'\n",
        "rgb_mode = ext_mode_rgb(filepath)\n",
        "x=gen_color_vec(rgb_mode).reshape(-1,1)\n",
        "print(\"[r, g, b]:\", rgb_mode)\n",
        "result(x)\n",
        "Image.open(filepath)"
      ],
      "execution_count": null,
      "outputs": []
    },
    {
      "cell_type": "code",
      "metadata": {
        "id": "Vy7QxNQpSayV",
        "colab_type": "code",
        "colab": {}
      },
      "source": [
        ""
      ],
      "execution_count": null,
      "outputs": []
    }
  ]
}