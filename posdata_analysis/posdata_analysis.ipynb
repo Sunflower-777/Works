{
  "nbformat": 4,
  "nbformat_minor": 0,
  "metadata": {
    "colab": {
      "name": "posdata_analysis.ipynb",
      "provenance": []
    },
    "kernelspec": {
      "name": "python3",
      "display_name": "Python 3"
    }
  },
  "cells": [
    {
      "cell_type": "markdown",
      "metadata": {
        "id": "cQFOdbNLwXbL"
      },
      "source": [
        "### 広告キャンペーンによる売上データ（オープンデータ）を分析してみた\n",
        "データ：https://www.kaggle.com/loveall/clicks-conversion-tracking"
      ]
    },
    {
      "cell_type": "markdown",
      "metadata": {
        "id": "2hOEzGJZwVN2"
      },
      "source": [
        "このプロジェクトで使用したデータは、匿名の組織のソーシャルメディア広告キャンペーンのものです。データファイルはここからダウンロードできます。ファイル conversion_data.csvは、11の変数で1143個のオブザベーションを含んでいます。以下、変数の説明です。\n",
        "\n",
        "1.) ad_id: 各広告に固有のID。\n",
        "\n",
        "2.) xyzcampaignid: XYZ会社の各広告キャンペーンに関連付けられたID。\n",
        "\n",
        "3.) fbcampaignid: Facebookがどのように各キャンペーンを追跡するかに関連付けられたID。\n",
        "\n",
        "4.) age：広告が表示される人の年齢。\n",
        "\n",
        "5.) gender: 広告が表示される人の性別\n",
        "\n",
        "6.) interest: その人の興味が属するカテゴリを指定するコード(興味はその人のFacebookの公開プロフィールに記載されているもの)。\n",
        "\n",
        "7.) impression：広告が表示された回数。\n",
        "\n",
        "8.) click：その広告のクリック数。\n",
        "\n",
        "9.) spent：金額は、その広告を表示するには、Facebookに会社xyzによって支払われた。\n",
        "\n",
        "10.) Total_Conversion : 広告を見た後、製品について問い合わせた人の総数。\n",
        "\n",
        "11.) Approved_Conversion : 広告を見て商品を購入した人の総数。\n"
      ]
    },
    {
      "cell_type": "code",
      "metadata": {
        "id": "XQnhW1hTvxpT"
      },
      "source": [
        "import pandas as pd \n",
        "import numpy as np\n",
        "import matplotlib.pyplot as plt\n",
        "%matplotlib inline\n",
        "import sklearn"
      ],
      "execution_count": null,
      "outputs": []
    },
    {
      "cell_type": "code",
      "metadata": {
        "colab": {
          "base_uri": "https://localhost:8080/",
          "height": 347
        },
        "id": "escJG3CpwWb2",
        "outputId": "5f7fca14-dc1b-4abc-e0d2-c17b3a39e6de"
      },
      "source": [
        "# まずはデータを見てみる\n",
        "df = pd.read_csv('/content/drive/MyDrive/Colab Notebooks/marketing/KAG_conversion_data.csv')\n",
        "df.head(10)"
      ],
      "execution_count": null,
      "outputs": [
        {
          "output_type": "execute_result",
          "data": {
            "text/html": [
              "<div>\n",
              "<style scoped>\n",
              "    .dataframe tbody tr th:only-of-type {\n",
              "        vertical-align: middle;\n",
              "    }\n",
              "\n",
              "    .dataframe tbody tr th {\n",
              "        vertical-align: top;\n",
              "    }\n",
              "\n",
              "    .dataframe thead th {\n",
              "        text-align: right;\n",
              "    }\n",
              "</style>\n",
              "<table border=\"1\" class=\"dataframe\">\n",
              "  <thead>\n",
              "    <tr style=\"text-align: right;\">\n",
              "      <th></th>\n",
              "      <th>ad_id</th>\n",
              "      <th>xyz_campaign_id</th>\n",
              "      <th>fb_campaign_id</th>\n",
              "      <th>age</th>\n",
              "      <th>gender</th>\n",
              "      <th>interest</th>\n",
              "      <th>Impressions</th>\n",
              "      <th>Clicks</th>\n",
              "      <th>Spent</th>\n",
              "      <th>Total_Conversion</th>\n",
              "      <th>Approved_Conversion</th>\n",
              "    </tr>\n",
              "  </thead>\n",
              "  <tbody>\n",
              "    <tr>\n",
              "      <th>0</th>\n",
              "      <td>708746</td>\n",
              "      <td>916</td>\n",
              "      <td>103916</td>\n",
              "      <td>30-34</td>\n",
              "      <td>M</td>\n",
              "      <td>15</td>\n",
              "      <td>7350</td>\n",
              "      <td>1</td>\n",
              "      <td>1.43</td>\n",
              "      <td>2</td>\n",
              "      <td>1</td>\n",
              "    </tr>\n",
              "    <tr>\n",
              "      <th>1</th>\n",
              "      <td>708749</td>\n",
              "      <td>916</td>\n",
              "      <td>103917</td>\n",
              "      <td>30-34</td>\n",
              "      <td>M</td>\n",
              "      <td>16</td>\n",
              "      <td>17861</td>\n",
              "      <td>2</td>\n",
              "      <td>1.82</td>\n",
              "      <td>2</td>\n",
              "      <td>0</td>\n",
              "    </tr>\n",
              "    <tr>\n",
              "      <th>2</th>\n",
              "      <td>708771</td>\n",
              "      <td>916</td>\n",
              "      <td>103920</td>\n",
              "      <td>30-34</td>\n",
              "      <td>M</td>\n",
              "      <td>20</td>\n",
              "      <td>693</td>\n",
              "      <td>0</td>\n",
              "      <td>0.00</td>\n",
              "      <td>1</td>\n",
              "      <td>0</td>\n",
              "    </tr>\n",
              "    <tr>\n",
              "      <th>3</th>\n",
              "      <td>708815</td>\n",
              "      <td>916</td>\n",
              "      <td>103928</td>\n",
              "      <td>30-34</td>\n",
              "      <td>M</td>\n",
              "      <td>28</td>\n",
              "      <td>4259</td>\n",
              "      <td>1</td>\n",
              "      <td>1.25</td>\n",
              "      <td>1</td>\n",
              "      <td>0</td>\n",
              "    </tr>\n",
              "    <tr>\n",
              "      <th>4</th>\n",
              "      <td>708818</td>\n",
              "      <td>916</td>\n",
              "      <td>103928</td>\n",
              "      <td>30-34</td>\n",
              "      <td>M</td>\n",
              "      <td>28</td>\n",
              "      <td>4133</td>\n",
              "      <td>1</td>\n",
              "      <td>1.29</td>\n",
              "      <td>1</td>\n",
              "      <td>1</td>\n",
              "    </tr>\n",
              "    <tr>\n",
              "      <th>5</th>\n",
              "      <td>708820</td>\n",
              "      <td>916</td>\n",
              "      <td>103929</td>\n",
              "      <td>30-34</td>\n",
              "      <td>M</td>\n",
              "      <td>29</td>\n",
              "      <td>1915</td>\n",
              "      <td>0</td>\n",
              "      <td>0.00</td>\n",
              "      <td>1</td>\n",
              "      <td>1</td>\n",
              "    </tr>\n",
              "    <tr>\n",
              "      <th>6</th>\n",
              "      <td>708889</td>\n",
              "      <td>916</td>\n",
              "      <td>103940</td>\n",
              "      <td>30-34</td>\n",
              "      <td>M</td>\n",
              "      <td>15</td>\n",
              "      <td>15615</td>\n",
              "      <td>3</td>\n",
              "      <td>4.77</td>\n",
              "      <td>1</td>\n",
              "      <td>0</td>\n",
              "    </tr>\n",
              "    <tr>\n",
              "      <th>7</th>\n",
              "      <td>708895</td>\n",
              "      <td>916</td>\n",
              "      <td>103941</td>\n",
              "      <td>30-34</td>\n",
              "      <td>M</td>\n",
              "      <td>16</td>\n",
              "      <td>10951</td>\n",
              "      <td>1</td>\n",
              "      <td>1.27</td>\n",
              "      <td>1</td>\n",
              "      <td>1</td>\n",
              "    </tr>\n",
              "    <tr>\n",
              "      <th>8</th>\n",
              "      <td>708953</td>\n",
              "      <td>916</td>\n",
              "      <td>103951</td>\n",
              "      <td>30-34</td>\n",
              "      <td>M</td>\n",
              "      <td>27</td>\n",
              "      <td>2355</td>\n",
              "      <td>1</td>\n",
              "      <td>1.50</td>\n",
              "      <td>1</td>\n",
              "      <td>0</td>\n",
              "    </tr>\n",
              "    <tr>\n",
              "      <th>9</th>\n",
              "      <td>708958</td>\n",
              "      <td>916</td>\n",
              "      <td>103952</td>\n",
              "      <td>30-34</td>\n",
              "      <td>M</td>\n",
              "      <td>28</td>\n",
              "      <td>9502</td>\n",
              "      <td>3</td>\n",
              "      <td>3.16</td>\n",
              "      <td>1</td>\n",
              "      <td>0</td>\n",
              "    </tr>\n",
              "  </tbody>\n",
              "</table>\n",
              "</div>"
            ],
            "text/plain": [
              "    ad_id  xyz_campaign_id  ...  Total_Conversion Approved_Conversion\n",
              "0  708746              916  ...                 2                   1\n",
              "1  708749              916  ...                 2                   0\n",
              "2  708771              916  ...                 1                   0\n",
              "3  708815              916  ...                 1                   0\n",
              "4  708818              916  ...                 1                   1\n",
              "5  708820              916  ...                 1                   1\n",
              "6  708889              916  ...                 1                   0\n",
              "7  708895              916  ...                 1                   1\n",
              "8  708953              916  ...                 1                   0\n",
              "9  708958              916  ...                 1                   0\n",
              "\n",
              "[10 rows x 11 columns]"
            ]
          },
          "metadata": {
            "tags": []
          },
          "execution_count": 2
        }
      ]
    },
    {
      "cell_type": "code",
      "metadata": {
        "colab": {
          "base_uri": "https://localhost:8080/",
          "height": 287
        },
        "id": "SktofUX5xHW3",
        "outputId": "bb7d89f7-832c-4e0f-e71f-2b54fcc7f9cf"
      },
      "source": [
        "# 基本統計量を，少数第3位まで表示\n",
        "pd.options.display.float_format = '{:.3f}'.format\n",
        "df.describe()"
      ],
      "execution_count": null,
      "outputs": [
        {
          "output_type": "execute_result",
          "data": {
            "text/html": [
              "<div>\n",
              "<style scoped>\n",
              "    .dataframe tbody tr th:only-of-type {\n",
              "        vertical-align: middle;\n",
              "    }\n",
              "\n",
              "    .dataframe tbody tr th {\n",
              "        vertical-align: top;\n",
              "    }\n",
              "\n",
              "    .dataframe thead th {\n",
              "        text-align: right;\n",
              "    }\n",
              "</style>\n",
              "<table border=\"1\" class=\"dataframe\">\n",
              "  <thead>\n",
              "    <tr style=\"text-align: right;\">\n",
              "      <th></th>\n",
              "      <th>ad_id</th>\n",
              "      <th>xyz_campaign_id</th>\n",
              "      <th>fb_campaign_id</th>\n",
              "      <th>interest</th>\n",
              "      <th>Impressions</th>\n",
              "      <th>Clicks</th>\n",
              "      <th>Spent</th>\n",
              "      <th>Total_Conversion</th>\n",
              "      <th>Approved_Conversion</th>\n",
              "    </tr>\n",
              "  </thead>\n",
              "  <tbody>\n",
              "    <tr>\n",
              "      <th>count</th>\n",
              "      <td>1143.000</td>\n",
              "      <td>1143.000</td>\n",
              "      <td>1143.000</td>\n",
              "      <td>1143.000</td>\n",
              "      <td>1143.000</td>\n",
              "      <td>1143.000</td>\n",
              "      <td>1143.000</td>\n",
              "      <td>1143.000</td>\n",
              "      <td>1143.000</td>\n",
              "    </tr>\n",
              "    <tr>\n",
              "      <th>mean</th>\n",
              "      <td>987261.130</td>\n",
              "      <td>1067.382</td>\n",
              "      <td>133783.990</td>\n",
              "      <td>32.766</td>\n",
              "      <td>186732.133</td>\n",
              "      <td>33.390</td>\n",
              "      <td>51.361</td>\n",
              "      <td>2.856</td>\n",
              "      <td>0.944</td>\n",
              "    </tr>\n",
              "    <tr>\n",
              "      <th>std</th>\n",
              "      <td>193992.815</td>\n",
              "      <td>121.629</td>\n",
              "      <td>20500.309</td>\n",
              "      <td>26.952</td>\n",
              "      <td>312762.183</td>\n",
              "      <td>56.892</td>\n",
              "      <td>86.908</td>\n",
              "      <td>4.484</td>\n",
              "      <td>1.738</td>\n",
              "    </tr>\n",
              "    <tr>\n",
              "      <th>min</th>\n",
              "      <td>708746.000</td>\n",
              "      <td>916.000</td>\n",
              "      <td>103916.000</td>\n",
              "      <td>2.000</td>\n",
              "      <td>87.000</td>\n",
              "      <td>0.000</td>\n",
              "      <td>0.000</td>\n",
              "      <td>0.000</td>\n",
              "      <td>0.000</td>\n",
              "    </tr>\n",
              "    <tr>\n",
              "      <th>25%</th>\n",
              "      <td>777632.500</td>\n",
              "      <td>936.000</td>\n",
              "      <td>115716.000</td>\n",
              "      <td>16.000</td>\n",
              "      <td>6503.500</td>\n",
              "      <td>1.000</td>\n",
              "      <td>1.480</td>\n",
              "      <td>1.000</td>\n",
              "      <td>0.000</td>\n",
              "    </tr>\n",
              "    <tr>\n",
              "      <th>50%</th>\n",
              "      <td>1121185.000</td>\n",
              "      <td>1178.000</td>\n",
              "      <td>144549.000</td>\n",
              "      <td>25.000</td>\n",
              "      <td>51509.000</td>\n",
              "      <td>8.000</td>\n",
              "      <td>12.370</td>\n",
              "      <td>1.000</td>\n",
              "      <td>1.000</td>\n",
              "    </tr>\n",
              "    <tr>\n",
              "      <th>75%</th>\n",
              "      <td>1121804.500</td>\n",
              "      <td>1178.000</td>\n",
              "      <td>144657.500</td>\n",
              "      <td>31.000</td>\n",
              "      <td>221769.000</td>\n",
              "      <td>37.500</td>\n",
              "      <td>60.025</td>\n",
              "      <td>3.000</td>\n",
              "      <td>1.000</td>\n",
              "    </tr>\n",
              "    <tr>\n",
              "      <th>max</th>\n",
              "      <td>1314415.000</td>\n",
              "      <td>1178.000</td>\n",
              "      <td>179982.000</td>\n",
              "      <td>114.000</td>\n",
              "      <td>3052003.000</td>\n",
              "      <td>421.000</td>\n",
              "      <td>639.950</td>\n",
              "      <td>60.000</td>\n",
              "      <td>21.000</td>\n",
              "    </tr>\n",
              "  </tbody>\n",
              "</table>\n",
              "</div>"
            ],
            "text/plain": [
              "            ad_id  xyz_campaign_id  ...  Total_Conversion  Approved_Conversion\n",
              "count    1143.000         1143.000  ...          1143.000             1143.000\n",
              "mean   987261.130         1067.382  ...             2.856                0.944\n",
              "std    193992.815          121.629  ...             4.484                1.738\n",
              "min    708746.000          916.000  ...             0.000                0.000\n",
              "25%    777632.500          936.000  ...             1.000                0.000\n",
              "50%   1121185.000         1178.000  ...             1.000                1.000\n",
              "75%   1121804.500         1178.000  ...             3.000                1.000\n",
              "max   1314415.000         1178.000  ...            60.000               21.000\n",
              "\n",
              "[8 rows x 9 columns]"
            ]
          },
          "metadata": {
            "tags": []
          },
          "execution_count": 22
        }
      ]
    },
    {
      "cell_type": "code",
      "metadata": {
        "id": "v4JjHV9lxKMK",
        "colab": {
          "base_uri": "https://localhost:8080/"
        },
        "outputId": "74b1e7b5-4e6b-4f88-9133-1886cba7ff44"
      },
      "source": [
        "# 欠損値がないか確認\n",
        "df.isnull().sum()"
      ],
      "execution_count": null,
      "outputs": [
        {
          "output_type": "execute_result",
          "data": {
            "text/plain": [
              "ad_id                  0\n",
              "xyz_campaign_id        0\n",
              "fb_campaign_id         0\n",
              "age                    0\n",
              "gender                 0\n",
              "interest               0\n",
              "Impressions            0\n",
              "Clicks                 0\n",
              "Spent                  0\n",
              "Total_Conversion       0\n",
              "Approved_Conversion    0\n",
              "dtype: int64"
            ]
          },
          "metadata": {
            "tags": []
          },
          "execution_count": 4
        }
      ]
    },
    {
      "cell_type": "code",
      "metadata": {
        "id": "b_Tlvec82j2H",
        "colab": {
          "base_uri": "https://localhost:8080/"
        },
        "outputId": "7eff9ad0-b4c3-45b1-ca0f-c09e0db3259d"
      },
      "source": [
        "# データ型確認\n",
        "df.dtypes"
      ],
      "execution_count": null,
      "outputs": [
        {
          "output_type": "execute_result",
          "data": {
            "text/plain": [
              "ad_id                    int64\n",
              "xyz_campaign_id          int64\n",
              "fb_campaign_id           int64\n",
              "age                     object\n",
              "gender                  object\n",
              "interest                 int64\n",
              "Impressions              int64\n",
              "Clicks                   int64\n",
              "Spent                  float64\n",
              "Total_Conversion         int64\n",
              "Approved_Conversion      int64\n",
              "dtype: object"
            ]
          },
          "metadata": {
            "tags": []
          },
          "execution_count": 5
        }
      ]
    },
    {
      "cell_type": "code",
      "metadata": {
        "colab": {
          "base_uri": "https://localhost:8080/"
        },
        "id": "JzXfH8fr29MM",
        "outputId": "5a82929b-a833-48dc-8b96-cdc7f527abd0"
      },
      "source": [
        "# 固有値確認\n",
        "for i in range(6):\n",
        "  print(df.columns[i])\n",
        "  print(len(df.iloc[:, i].unique()))\n",
        "  print(df.iloc[:, i].unique())\n",
        "  print('----')"
      ],
      "execution_count": null,
      "outputs": [
        {
          "output_type": "stream",
          "text": [
            "ad_id\n",
            "1143\n",
            "[ 708746  708749  708771 ... 1314412 1314414 1314415]\n",
            "----\n",
            "xyz_campaign_id\n",
            "3\n",
            "[ 916  936 1178]\n",
            "----\n",
            "fb_campaign_id\n",
            "691\n",
            "[103916 103917 103920 103928 103929 103940 103941 103951 103952 103955\n",
            " 103962 103965 103968 103976 103978 103979 103988 103989 104012 104013\n",
            " 104034 104049 104061 104085 104108 104109 104133 104140 104185 104205\n",
            " 104220 104228 104229 104230 104239 104252 104265 104270 104272 104285\n",
            " 104287 104328 104396 104419 104423 104438 104467 108654 108655 108660\n",
            " 108664 108665 108668 108672 108678 108680 108683 108686 108689 108690\n",
            " 108691 108692 108716 108720 108729 108730 108740 108742 108750 108752\n",
            " 108753 108761 108762 108764 108766 108770 108774 108776 108781 108786\n",
            " 108788 108791 108792 108793 108794 108797 108804 108809 108810 108811\n",
            " 108817 108818 108822 108823 108826 108827 108834 108836 109448 109451\n",
            " 109452 109470 109472 109473 109498 109507 109553 109565 109601 109629\n",
            " 109633 109637 109659 109689 109698 109706 109714 109717 109731 109738\n",
            " 109788 109808 109813 109816 109820 109826 109839 109844 109848 109850\n",
            " 109851 109852 109857 109859 110836 110837 110838 110842 110856 110861\n",
            " 110862 110867 110873 110874 110882 110886 110908 110910 110913 110914\n",
            " 110919 110932 110933 110934 110938 110939 110943 110944 110947 110951\n",
            " 110952 110962 110966 110967 110968 110970 110975 110982 111005 111006\n",
            " 111016 111018 111020 111024 115484 115485 115487 115490 115493 115495\n",
            " 115498 115500 115503 115508 115509 115510 115512 115513 115517 115520\n",
            " 115521 115523 115525 115527 115531 115533 115535 115536 115538 115541\n",
            " 115542 115545 115547 115551 115552 115561 115563 115564 115567 115568\n",
            " 115569 115571 115574 115580 115586 115587 115615 115619 115625 115629\n",
            " 115631 115637 115639 115641 115675 115677 115679 115691 115693 115697\n",
            " 115715 115717 115723 115735 115737 115743 115747 115756 115762 115784\n",
            " 115786 115792 115796 115798 115802 115804 115812 115822 115848 115854\n",
            " 115856 115858 115866 115870 115876 115878 115882 115890 115892 115898\n",
            " 115900 115904 115912 115938 115954 115962 116031 116033 116039 116053\n",
            " 116059 116061 116063 116065 116077 116081 116087 116089 116095 116103\n",
            " 116111 116115 116121 116123 116135 116147 116163 116183 116216 116218\n",
            " 116220 116240 116244 116246 116248 116252 116265 116267 116273 116277\n",
            " 116279 116285 116303 116323 116331 116339 116341 116343 116345 116347\n",
            " 116363 116367 116371 116385 116391 116395 116397 116405 116413 116427\n",
            " 116447 116455 116463 116467 116471 116479 116483 116501 116507 116509\n",
            " 116515 116517 116519 116525 116535 116547 116553 116569 116577 116587\n",
            " 116589 116595 116597 116605 116615 116623 123438 123440 123443 123445\n",
            " 123455 123457 123460 123464 123481 123484 123502 123504 123509 123514\n",
            " 123515 123516 123519 123523 123526 123528 123532 123535 123551 123555\n",
            " 123556 123558 123562 123567 123573 123588 123597 123599 123601 123611\n",
            " 123616 123627 123631 123639 123641 123643 123644 123649 123659 123660\n",
            " 123661 123662 123664 123668 123671 123677 123678 123684 123695 123700\n",
            " 123706 123709 123713 123720 123723 123724 123729 123733 123736 123750\n",
            " 123760 123765 123774 123777 144531 144532 144533 144534 144535 144536\n",
            " 144537 144538 144539 144541 144545 144547 144549 144552 144554 144556\n",
            " 144558 144561 144562 144565 144567 144568 144569 144570 144571 144572\n",
            " 144573 144574 144575 144576 144577 144578 144579 144580 144581 144582\n",
            " 144583 144584 144585 144586 144587 144588 144589 144590 144591 144592\n",
            " 144593 144594 144595 144596 144597 144598 144599 144601 144602 144603\n",
            " 144604 144605 144606 144607 144608 144609 144611 144612 144613 144614\n",
            " 144615 144616 144617 144618 144619 144620 144621 144622 144623 144624\n",
            " 144625 144626 144627 144628 144629 144630 144631 144632 144633 144634\n",
            " 144635 144636 144638 144639 144640 144641 144642 144643 144644 144646\n",
            " 144647 144648 144649 144650 144651 144652 144653 144654 144655 144656\n",
            " 144657 144658 144659 144660 144661 144662 144663 144664 144665 144666\n",
            " 144667 144668 144669 144670 144671 144672 144673 144674 144675 144676\n",
            " 144678 144679 144681 144682 144683 144684 144685 144686 144687 144689\n",
            " 144691 144692 144694 144695 144697 144698 144699 144700 144703 144704\n",
            " 144705 144707 144708 144709 144710 144711 144712 144713 144714 144715\n",
            " 144716 144717 144718 144719 144720 144721 144722 144723 144724 144725\n",
            " 144726 144727 144728 144729 144730 144731 144732 144733 144734 144735\n",
            " 144736 144737 144738 144741 144742 144743 179863 179864 179865 179866\n",
            " 179868 179870 179873 179874 179875 179876 179879 179880 179881 179883\n",
            " 179885 179886 179887 179888 179890 179891 179892 179893 179894 179897\n",
            " 179898 179899 179900 179901 179903 179904 179905 179906 179908 179910\n",
            " 179912 179913 179915 179916 179917 179918 179920 179921 179922 179924\n",
            " 179925 179926 179927 179928 179929 179930 179931 179932 179933 179934\n",
            " 179935 179938 179939 179940 179944 179945 179946 179947 179948 179949\n",
            " 179950 179951 179952 179953 179954 179955 179956 179957 179958 179959\n",
            " 179960 179961 179962 179963 179964 179965 179967 179968 179969 179970\n",
            " 179971 179972 179973 179974 179975 179976 179977 179978 179979 179981\n",
            " 179982]\n",
            "----\n",
            "age\n",
            "4\n",
            "['30-34' '35-39' '40-44' '45-49']\n",
            "----\n",
            "gender\n",
            "2\n",
            "['M' 'F']\n",
            "----\n",
            "interest\n",
            "40\n",
            "[ 15  16  20  28  29  27  31   7  30  24  21  32  18  63  65  25  10  19\n",
            "  26  36  23  64  22   2  66 100 101 102 103 105 107 110 111 112 113 108\n",
            " 109 114 104 106]\n",
            "----\n"
          ],
          "name": "stdout"
        }
      ]
    },
    {
      "cell_type": "code",
      "metadata": {
        "id": "7JXhWhne3PL7",
        "colab": {
          "base_uri": "https://localhost:8080/",
          "height": 137
        },
        "outputId": "8d6e498d-55db-4f07-ae90-73ae49a90af7"
      },
      "source": [
        "# 相関を見たい数値(クリック数，広告表示にかけたコスト，問い合わせ数，購入数)を抜き出す\n",
        "df_nums = df.iloc[:, [6, 7, 8, 9, 10]]\n",
        "df_nums.head(3)"
      ],
      "execution_count": null,
      "outputs": [
        {
          "output_type": "execute_result",
          "data": {
            "text/html": [
              "<div>\n",
              "<style scoped>\n",
              "    .dataframe tbody tr th:only-of-type {\n",
              "        vertical-align: middle;\n",
              "    }\n",
              "\n",
              "    .dataframe tbody tr th {\n",
              "        vertical-align: top;\n",
              "    }\n",
              "\n",
              "    .dataframe thead th {\n",
              "        text-align: right;\n",
              "    }\n",
              "</style>\n",
              "<table border=\"1\" class=\"dataframe\">\n",
              "  <thead>\n",
              "    <tr style=\"text-align: right;\">\n",
              "      <th></th>\n",
              "      <th>Impressions</th>\n",
              "      <th>Clicks</th>\n",
              "      <th>Spent</th>\n",
              "      <th>Total_Conversion</th>\n",
              "      <th>Approved_Conversion</th>\n",
              "    </tr>\n",
              "  </thead>\n",
              "  <tbody>\n",
              "    <tr>\n",
              "      <th>0</th>\n",
              "      <td>7350</td>\n",
              "      <td>1</td>\n",
              "      <td>1.4</td>\n",
              "      <td>2</td>\n",
              "      <td>1</td>\n",
              "    </tr>\n",
              "    <tr>\n",
              "      <th>1</th>\n",
              "      <td>17861</td>\n",
              "      <td>2</td>\n",
              "      <td>1.8</td>\n",
              "      <td>2</td>\n",
              "      <td>0</td>\n",
              "    </tr>\n",
              "    <tr>\n",
              "      <th>2</th>\n",
              "      <td>693</td>\n",
              "      <td>0</td>\n",
              "      <td>0.0</td>\n",
              "      <td>1</td>\n",
              "      <td>0</td>\n",
              "    </tr>\n",
              "  </tbody>\n",
              "</table>\n",
              "</div>"
            ],
            "text/plain": [
              "   Impressions  Clicks  Spent  Total_Conversion  Approved_Conversion\n",
              "0         7350       1    1.4                 2                    1\n",
              "1        17861       2    1.8                 2                    0\n",
              "2          693       0    0.0                 1                    0"
            ]
          },
          "metadata": {
            "tags": []
          },
          "execution_count": 7
        }
      ]
    },
    {
      "cell_type": "code",
      "metadata": {
        "colab": {
          "base_uri": "https://localhost:8080/",
          "height": 920
        },
        "id": "O5kMDvFOZYlJ",
        "outputId": "2abd9deb-740c-44a5-9cfd-4dfd2f5a19d7"
      },
      "source": [
        "# ペアプロット図でそれぞれの特徴量同士の相関をみる\n",
        "import seaborn as sns\n",
        "\n",
        "sns.pairplot(df_nums)"
      ],
      "execution_count": null,
      "outputs": [
        {
          "output_type": "execute_result",
          "data": {
            "text/plain": [
              "<seaborn.axisgrid.PairGrid at 0x7f1423c9d048>"
            ]
          },
          "metadata": {
            "tags": []
          },
          "execution_count": 8
        },
        {
          "output_type": "display_data",
          "data": {
            "image/png": "[encoded data removed]",
            "text/plain": [
              "<Figure size 900x900 with 30 Axes>"
            ]
          },
          "metadata": {
            "tags": [],
            "needs_background": "light"
          }
        }
      ]
    },
    {
      "cell_type": "code",
      "metadata": {
        "colab": {
          "base_uri": "https://localhost:8080/",
          "height": 367
        },
        "id": "jbc7VTdbZywS",
        "outputId": "5e04015c-bbed-4b14-b564-b1fd3c721e83"
      },
      "source": [
        "# ヒートマップで相関をもっとわかりやすく可視化\n",
        "sns.heatmap(df_nums.corr(), square=True);"
      ],
      "execution_count": null,
      "outputs": [
        {
          "output_type": "display_data",
          "data": {
            "image/png": "[encoded data removed]",
            "text/plain": [
              "<Figure size 432x288 with 2 Axes>"
            ]
          },
          "metadata": {
            "tags": [],
            "needs_background": "light"
          }
        }
      ]
    },
    {
      "cell_type": "markdown",
      "metadata": {
        "id": "kE30FgkLbeRp"
      },
      "source": [
        "基本的に全ての数値に相関があるが，特に相関が強い(0.8以上)のは\n",
        "- SpentとClick\n",
        "- SpentとImpression\n",
        "- ImpressionとClick\n",
        "- Total_comversionとApproved_comversion\n",
        "- Total_comversionとImpressions"
      ]
    },
    {
      "cell_type": "code",
      "metadata": {
        "colab": {
          "base_uri": "https://localhost:8080/"
        },
        "id": "dKV9p5Z_a4aV",
        "outputId": "de2e2881-c067-46df-b020-2b2c5510c641"
      },
      "source": [
        "# キャンペーン種類別に特徴を見てみる\n",
        "group_canpaign = df.groupby(df['xyz_campaign_id'])\n",
        "group_canpaign.groups.keys()"
      ],
      "execution_count": null,
      "outputs": [
        {
          "output_type": "execute_result",
          "data": {
            "text/plain": [
              "dict_keys([916, 936, 1178])"
            ]
          },
          "metadata": {
            "tags": []
          },
          "execution_count": 10
        }
      ]
    },
    {
      "cell_type": "code",
      "metadata": {
        "colab": {
          "base_uri": "https://localhost:8080/"
        },
        "id": "a1Tzu7C00W5g",
        "outputId": "9789bf82-0ac4-42b5-f197-dfa8b653a81f"
      },
      "source": [
        "# キャンペーン番号916で反応を示した年齢・性別人数と購入率\n",
        "campaign_916 = group_canpaign.get_group(916)\n",
        "num_916 = campaign_916.groupby(['age', 'gender']).count()['ad_id']\n",
        "print(num_916)\n",
        "campaign_916.groupby(['age', 'gender']).sum()['Approved_Conversion'] / num_916"
      ],
      "execution_count": null,
      "outputs": [
        {
          "output_type": "stream",
          "text": [
            "age    gender\n",
            "30-34  F         11\n",
            "       M         18\n",
            "35-39  F          3\n",
            "       M          9\n",
            "40-44  F          1\n",
            "       M          5\n",
            "45-49  F          4\n",
            "       M          3\n",
            "Name: ad_id, dtype: int64\n"
          ],
          "name": "stdout"
        },
        {
          "output_type": "execute_result",
          "data": {
            "text/plain": [
              "age    gender\n",
              "30-34  F        0.4\n",
              "       M        0.4\n",
              "35-39  F        0.3\n",
              "       M        0.6\n",
              "40-44  F        1.0\n",
              "       M        0.6\n",
              "45-49  F        0.5\n",
              "       M        0.3\n",
              "dtype: float64"
            ]
          },
          "metadata": {
            "tags": []
          },
          "execution_count": 11
        }
      ]
    },
    {
      "cell_type": "markdown",
      "metadata": {
        "id": "uzjnJGzL4ydG"
      },
      "source": [
        "多分商品916は30〜34才男性向け広告が一番人数が多いけど，購入率が高いのは35-39, 40-44才男性向け広告"
      ]
    },
    {
      "cell_type": "code",
      "metadata": {
        "colab": {
          "base_uri": "https://localhost:8080/"
        },
        "id": "6D95CkOL0wK4",
        "outputId": "c71e01ad-5db9-455a-e6ff-28c101ad5b57"
      },
      "source": [
        "# キャンペーン番号936で反応を示した年齢・性別人数と購入率\n",
        "campaign_936 = group_canpaign.get_group(936)\n",
        "num_936 = campaign_936.groupby(['age', 'gender']).count()['ad_id']\n",
        "print(num_936)\n",
        "campaign_936.groupby(['age', 'gender']).sum()['Approved_Conversion'] / num_936"
      ],
      "execution_count": null,
      "outputs": [
        {
          "output_type": "stream",
          "text": [
            "age    gender\n",
            "30-34  F         97\n",
            "       M         99\n",
            "35-39  F         49\n",
            "       M         40\n",
            "40-44  F         46\n",
            "       M         29\n",
            "45-49  F         64\n",
            "       M         40\n",
            "Name: ad_id, dtype: int64\n"
          ],
          "name": "stdout"
        },
        {
          "output_type": "execute_result",
          "data": {
            "text/plain": [
              "age    gender\n",
              "30-34  F        0.4\n",
              "       M        0.5\n",
              "35-39  F        0.4\n",
              "       M        0.3\n",
              "40-44  F        0.3\n",
              "       M        0.4\n",
              "45-49  F        0.4\n",
              "       M        0.3\n",
              "dtype: float64"
            ]
          },
          "metadata": {
            "tags": []
          },
          "execution_count": 12
        }
      ]
    },
    {
      "cell_type": "markdown",
      "metadata": {
        "id": "Kgm4ZZhu7cNU"
      },
      "source": [
        "商品936は，30-34才の顧客が圧倒的多数で，30-34才男性向け広告の購入率が高い．けど全体的に同じくらいの効果"
      ]
    },
    {
      "cell_type": "code",
      "metadata": {
        "colab": {
          "base_uri": "https://localhost:8080/"
        },
        "id": "WLDuh4qI5gKG",
        "outputId": "d2e0f641-8e91-48ef-852b-f6e1b555ecf9"
      },
      "source": [
        "# キャンペーン番号1178で反応を示した年齢・性別人数と購入率\n",
        "campaign_1178 = group_canpaign.get_group(1178)\n",
        "num_1178 = campaign_1178.groupby(['age', 'gender']).count()['ad_id']\n",
        "print(num_1178)\n",
        "campaign_1178.groupby(['age', 'gender']).sum()['Approved_Conversion'] / num_1178"
      ],
      "execution_count": null,
      "outputs": [
        {
          "output_type": "stream",
          "text": [
            "age    gender\n",
            "30-34  F          89\n",
            "       M         112\n",
            "35-39  F          57\n",
            "       M          90\n",
            "40-44  F          60\n",
            "       M          69\n",
            "45-49  F          70\n",
            "       M          78\n",
            "Name: ad_id, dtype: int64\n"
          ],
          "name": "stdout"
        },
        {
          "output_type": "execute_result",
          "data": {
            "text/plain": [
              "age    gender\n",
              "30-34  F        1.7\n",
              "       M        2.2\n",
              "35-39  F        1.3\n",
              "       M        1.1\n",
              "40-44  F        1.3\n",
              "       M        0.9\n",
              "45-49  F        1.2\n",
              "       M        1.1\n",
              "dtype: float64"
            ]
          },
          "metadata": {
            "tags": []
          },
          "execution_count": 13
        }
      ]
    },
    {
      "cell_type": "markdown",
      "metadata": {
        "id": "t2iyFot98re7"
      },
      "source": [
        "商品1178も30-34才向けの広告が多くて，購入率もそこが一番高い．一つの広告で複数人釣れているケースが多いらしい．したがってこれらの広告の特徴を真似て作ってみるといい感じに効果が出るのかもしれない"
      ]
    },
    {
      "cell_type": "code",
      "metadata": {
        "id": "ypxiCGf3UNaZ",
        "colab": {
          "base_uri": "https://localhost:8080/"
        },
        "outputId": "11702c1d-d1dd-4765-e3b2-daf4200d4033"
      },
      "source": [
        "from sklearn.preprocessing import StandardScaler\n",
        "\n",
        "# 因子分析してみる\n",
        "\n",
        "# データを標準化\n",
        "sc = StandardScaler()\n",
        "sc.fit(df_nums)\n",
        "\n",
        "x = sc.transform(df_nums)\n",
        "print(x.shape)\n",
        "x"
      ],
      "execution_count": null,
      "outputs": [
        {
          "output_type": "stream",
          "text": [
            "(1143, 5)\n"
          ],
          "name": "stdout"
        },
        {
          "output_type": "execute_result",
          "data": {
            "text/plain": [
              "array([[-0.57379269, -0.5695727 , -0.57477185, -0.19092221,  0.03223643],\n",
              "       [-0.54017097, -0.55198797, -0.57028241, -0.19092221, -0.54348614],\n",
              "       [-0.59508655, -0.58715742, -0.59123316, -0.41405523, -0.54348614],\n",
              "       ...,\n",
              "       [-0.11259846, -0.09478519, -0.12743878, -0.19092221, -0.54348614],\n",
              "       [ 1.9304925 ,  1.7867801 ,  1.69619753,  1.14787588,  0.60795901],\n",
              "       [ 1.04415359,  1.41750093,  1.31517011,  0.47847683,  0.60795901]])"
            ]
          },
          "metadata": {
            "tags": []
          },
          "execution_count": 16
        }
      ]
    },
    {
      "cell_type": "code",
      "metadata": {
        "colab": {
          "base_uri": "https://localhost:8080/"
        },
        "id": "2SltFnkFzIUQ",
        "outputId": "5af76cbf-e579-44f1-c145-27d9b06aa051"
      },
      "source": [
        "from sklearn.decomposition import FactorAnalysis as FA\n",
        "\n",
        "# 因子の数\n",
        "n_components = 3\n",
        "\n",
        "# 因子分析\n",
        "fa = FA(n_components, max_iter=5000).fit(x)\n",
        "num_fitted = fa.transform(x)\n",
        "\n",
        "print(num_fitted.shape)\n",
        "num_fitted"
      ],
      "execution_count": null,
      "outputs": [
        {
          "output_type": "stream",
          "text": [
            "(1143, 3)\n"
          ],
          "name": "stdout"
        },
        {
          "output_type": "execute_result",
          "data": {
            "text/plain": [
              "array([[-0.56675378,  0.29229583,  0.33001338],\n",
              "       [-0.55726135,  0.21365229,  0.23779881],\n",
              "       [-0.59276582, -0.01089139,  0.06677945],\n",
              "       ...,\n",
              "       [-0.12089421, -0.18966178, -0.05217192],\n",
              "       [ 1.75112111, -0.09797203, -0.56595266],\n",
              "       [ 1.3085002 , -0.81564628,  0.58125195]])"
            ]
          },
          "metadata": {
            "tags": []
          },
          "execution_count": 24
        }
      ]
    },
    {
      "cell_type": "code",
      "metadata": {
        "colab": {
          "base_uri": "https://localhost:8080/"
        },
        "id": "gHxqoEBY0qD5",
        "outputId": "7a80ac51-e455-4d12-a529-7774a435ff7e"
      },
      "source": [
        "# 因子負荷量．つまり因子の影響度\n",
        "fa.components_.T"
      ],
      "execution_count": null,
      "outputs": [
        {
          "output_type": "execute_result",
          "data": {
            "text/plain": [
              "array([[ 0.9740275 ,  0.15832523, -0.11876898],\n",
              "       [ 0.99332585, -0.07904247,  0.05471436],\n",
              "       [ 0.99844099, -0.02469845, -0.01508708],\n",
              "       [ 0.74394913,  0.63634874,  0.10693018],\n",
              "       [ 0.61020661,  0.63132945,  0.07386974]])"
            ]
          },
          "metadata": {
            "tags": []
          },
          "execution_count": 25
        }
      ]
    },
    {
      "cell_type": "code",
      "metadata": {
        "colab": {
          "base_uri": "https://localhost:8080/",
          "height": 197
        },
        "id": "FZEdoekN1yjG",
        "outputId": "a1c73e6a-e8c3-46f0-b13c-fc092e813c59"
      },
      "source": [
        "Factor_loading_matrix = fa.components_.T\n",
        "\n",
        "pd.DataFrame(Factor_loading_matrix,\n",
        "             columns=['第1因子', '第2因子', '第3因子'],\n",
        "             index= [df_nums.columns])"
      ],
      "execution_count": null,
      "outputs": [
        {
          "output_type": "execute_result",
          "data": {
            "text/html": [
              "<div>\n",
              "<style scoped>\n",
              "    .dataframe tbody tr th:only-of-type {\n",
              "        vertical-align: middle;\n",
              "    }\n",
              "\n",
              "    .dataframe tbody tr th {\n",
              "        vertical-align: top;\n",
              "    }\n",
              "\n",
              "    .dataframe thead th {\n",
              "        text-align: right;\n",
              "    }\n",
              "</style>\n",
              "<table border=\"1\" class=\"dataframe\">\n",
              "  <thead>\n",
              "    <tr style=\"text-align: right;\">\n",
              "      <th></th>\n",
              "      <th>第1因子</th>\n",
              "      <th>第2因子</th>\n",
              "      <th>第3因子</th>\n",
              "    </tr>\n",
              "  </thead>\n",
              "  <tbody>\n",
              "    <tr>\n",
              "      <th>Impressions</th>\n",
              "      <td>0.974</td>\n",
              "      <td>0.158</td>\n",
              "      <td>-0.119</td>\n",
              "    </tr>\n",
              "    <tr>\n",
              "      <th>Clicks</th>\n",
              "      <td>0.993</td>\n",
              "      <td>-0.079</td>\n",
              "      <td>0.055</td>\n",
              "    </tr>\n",
              "    <tr>\n",
              "      <th>Spent</th>\n",
              "      <td>0.998</td>\n",
              "      <td>-0.025</td>\n",
              "      <td>-0.015</td>\n",
              "    </tr>\n",
              "    <tr>\n",
              "      <th>Total_Conversion</th>\n",
              "      <td>0.744</td>\n",
              "      <td>0.636</td>\n",
              "      <td>0.107</td>\n",
              "    </tr>\n",
              "    <tr>\n",
              "      <th>Approved_Conversion</th>\n",
              "      <td>0.610</td>\n",
              "      <td>0.631</td>\n",
              "      <td>0.074</td>\n",
              "    </tr>\n",
              "  </tbody>\n",
              "</table>\n",
              "</div>"
            ],
            "text/plain": [
              "                     第1因子   第2因子   第3因子\n",
              "Impressions         0.974  0.158 -0.119\n",
              "Clicks              0.993 -0.079  0.055\n",
              "Spent               0.998 -0.025 -0.015\n",
              "Total_Conversion    0.744  0.636  0.107\n",
              "Approved_Conversion 0.610  0.631  0.074"
            ]
          },
          "metadata": {
            "tags": []
          },
          "execution_count": 26
        }
      ]
    },
    {
      "cell_type": "markdown",
      "metadata": {
        "id": "Ve5C8CcU49kQ"
      },
      "source": [
        "- 第一因子：総合的な効果度合い\n",
        "- 第二因子：本当に商品に対して興味を持たせることができた度合い\n",
        "- 第三因子：不明"
      ]
    },
    {
      "cell_type": "markdown",
      "metadata": {
        "id": "wljekfVsSfJL"
      },
      "source": [
        "因子負荷量の数値が大きいほど，その変数に対する因子の影響度（相関）が大きくなる．"
      ]
    },
    {
      "cell_type": "code",
      "metadata": {
        "id": "7olrJrsz64Wl"
      },
      "source": [
        ""
      ],
      "execution_count": null,
      "outputs": []
    }
  ]
}