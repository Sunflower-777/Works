{
  "nbformat": 4,
  "nbformat_minor": 0,
  "metadata": {
    "colab": {
      "name": "simple_perceptron_iris.ipynb",
      "provenance": [],
      "collapsed_sections": []
    },
    "kernelspec": {
      "name": "python3",
      "display_name": "Python 3"
    }
  },
  "cells": [
    {
      "cell_type": "markdown",
      "metadata": {
        "id": "6u1P-4cLfF2G",
        "colab_type": "text"
      },
      "source": [
        "<h1>機械学習の仕組みを体感すべく、単純パーセプトロンのコードを書いてアヤメのデータ(がくの長さと花弁の長さのデータを使用)を分析しました。</h1>"
      ]
    },
    {
      "cell_type": "code",
      "metadata": {
        "id": "PBT9V69Gliri",
        "colab_type": "code",
        "colab": {}
      },
      "source": [
        "import numpy as np\n",
        "import pandas as pd\n",
        "import matplotlib.pyplot as plt\n",
        "%matplotlib inline"
      ],
      "execution_count": null,
      "outputs": []
    },
    {
      "cell_type": "markdown",
      "metadata": {
        "id": "7uhgOHmDfeR9",
        "colab_type": "text"
      },
      "source": [
        "<h3>以下データの下処理</h3>"
      ]
    },
    {
      "cell_type": "code",
      "metadata": {
        "id": "3oFw1gJxlzYL",
        "colab_type": "code",
        "colab": {
          "base_uri": "https://localhost:8080/",
          "height": 419
        },
        "outputId": "5c9b3273-154a-44bf-fef7-c1f753d7ee45"
      },
      "source": [
        "#アヤメのデータを読み込み\n",
        "df = pd.read_csv('datas/iris-data.csv', header = None)\n",
        "df"
      ],
      "execution_count": null,
      "outputs": [
        {
          "output_type": "execute_result",
          "data": {
            "text/html": [
              "<div>\n",
              "<style scoped>\n",
              "    .dataframe tbody tr th:only-of-type {\n",
              "        vertical-align: middle;\n",
              "    }\n",
              "\n",
              "    .dataframe tbody tr th {\n",
              "        vertical-align: top;\n",
              "    }\n",
              "\n",
              "    .dataframe thead th {\n",
              "        text-align: right;\n",
              "    }\n",
              "</style>\n",
              "<table border=\"1\" class=\"dataframe\">\n",
              "  <thead>\n",
              "    <tr style=\"text-align: right;\">\n",
              "      <th></th>\n",
              "      <th>0</th>\n",
              "      <th>1</th>\n",
              "      <th>2</th>\n",
              "      <th>3</th>\n",
              "      <th>4</th>\n",
              "    </tr>\n",
              "  </thead>\n",
              "  <tbody>\n",
              "    <tr>\n",
              "      <th>0</th>\n",
              "      <td>5.1</td>\n",
              "      <td>3.5</td>\n",
              "      <td>1.4</td>\n",
              "      <td>0.2</td>\n",
              "      <td>Iris-setosa</td>\n",
              "    </tr>\n",
              "    <tr>\n",
              "      <th>1</th>\n",
              "      <td>4.9</td>\n",
              "      <td>3.0</td>\n",
              "      <td>1.4</td>\n",
              "      <td>0.2</td>\n",
              "      <td>Iris-setosa</td>\n",
              "    </tr>\n",
              "    <tr>\n",
              "      <th>2</th>\n",
              "      <td>4.7</td>\n",
              "      <td>3.2</td>\n",
              "      <td>1.3</td>\n",
              "      <td>0.2</td>\n",
              "      <td>Iris-setosa</td>\n",
              "    </tr>\n",
              "    <tr>\n",
              "      <th>3</th>\n",
              "      <td>4.6</td>\n",
              "      <td>3.1</td>\n",
              "      <td>1.5</td>\n",
              "      <td>0.2</td>\n",
              "      <td>Iris-setosa</td>\n",
              "    </tr>\n",
              "    <tr>\n",
              "      <th>4</th>\n",
              "      <td>5.0</td>\n",
              "      <td>3.6</td>\n",
              "      <td>1.4</td>\n",
              "      <td>0.2</td>\n",
              "      <td>Iris-setosa</td>\n",
              "    </tr>\n",
              "    <tr>\n",
              "      <th>...</th>\n",
              "      <td>...</td>\n",
              "      <td>...</td>\n",
              "      <td>...</td>\n",
              "      <td>...</td>\n",
              "      <td>...</td>\n",
              "    </tr>\n",
              "    <tr>\n",
              "      <th>95</th>\n",
              "      <td>5.7</td>\n",
              "      <td>3.0</td>\n",
              "      <td>4.2</td>\n",
              "      <td>1.2</td>\n",
              "      <td>Iris-versicolor</td>\n",
              "    </tr>\n",
              "    <tr>\n",
              "      <th>96</th>\n",
              "      <td>5.7</td>\n",
              "      <td>2.9</td>\n",
              "      <td>4.2</td>\n",
              "      <td>1.3</td>\n",
              "      <td>Iris-versicolor</td>\n",
              "    </tr>\n",
              "    <tr>\n",
              "      <th>97</th>\n",
              "      <td>6.2</td>\n",
              "      <td>2.9</td>\n",
              "      <td>4.3</td>\n",
              "      <td>1.3</td>\n",
              "      <td>Iris-versicolor</td>\n",
              "    </tr>\n",
              "    <tr>\n",
              "      <th>98</th>\n",
              "      <td>5.1</td>\n",
              "      <td>2.5</td>\n",
              "      <td>3.0</td>\n",
              "      <td>1.1</td>\n",
              "      <td>Iris-versicolor</td>\n",
              "    </tr>\n",
              "    <tr>\n",
              "      <th>99</th>\n",
              "      <td>5.7</td>\n",
              "      <td>2.8</td>\n",
              "      <td>4.1</td>\n",
              "      <td>1.3</td>\n",
              "      <td>Iris-versicolor</td>\n",
              "    </tr>\n",
              "  </tbody>\n",
              "</table>\n",
              "<p>100 rows × 5 columns</p>\n",
              "</div>"
            ],
            "text/plain": [
              "      0    1    2    3                4\n",
              "0   5.1  3.5  1.4  0.2      Iris-setosa\n",
              "1   4.9  3.0  1.4  0.2      Iris-setosa\n",
              "2   4.7  3.2  1.3  0.2      Iris-setosa\n",
              "3   4.6  3.1  1.5  0.2      Iris-setosa\n",
              "4   5.0  3.6  1.4  0.2      Iris-setosa\n",
              "..  ...  ...  ...  ...              ...\n",
              "95  5.7  3.0  4.2  1.2  Iris-versicolor\n",
              "96  5.7  2.9  4.2  1.3  Iris-versicolor\n",
              "97  6.2  2.9  4.3  1.3  Iris-versicolor\n",
              "98  5.1  2.5  3.0  1.1  Iris-versicolor\n",
              "99  5.7  2.8  4.1  1.3  Iris-versicolor\n",
              "\n",
              "[100 rows x 5 columns]"
            ]
          },
          "metadata": {
            "tags": []
          },
          "execution_count": 3
        }
      ]
    },
    {
      "cell_type": "code",
      "metadata": {
        "id": "oXpF8oiRvqc-",
        "colab_type": "code",
        "colab": {
          "base_uri": "https://localhost:8080/",
          "height": 221
        },
        "outputId": "4efa9481-17b4-4629-ec80-d10b9f993971"
      },
      "source": [
        "#がくの長さのデータを抽出\n",
        "df_sepal = df.iloc[:, 0]\n",
        "df_sepal"
      ],
      "execution_count": null,
      "outputs": [
        {
          "output_type": "execute_result",
          "data": {
            "text/plain": [
              "0     5.1\n",
              "1     4.9\n",
              "2     4.7\n",
              "3     4.6\n",
              "4     5.0\n",
              "     ... \n",
              "95    5.7\n",
              "96    5.7\n",
              "97    6.2\n",
              "98    5.1\n",
              "99    5.7\n",
              "Name: 0, Length: 100, dtype: float64"
            ]
          },
          "metadata": {
            "tags": []
          },
          "execution_count": 4
        }
      ]
    },
    {
      "cell_type": "code",
      "metadata": {
        "id": "c635YqVUzQ4y",
        "colab_type": "code",
        "colab": {
          "base_uri": "https://localhost:8080/",
          "height": 221
        },
        "outputId": "b823a758-c6a5-4ee2-eeb1-0b2994da1c30"
      },
      "source": [
        "#花弁の長さのデータを抽出\n",
        "df_petal = df.iloc[:, 2]\n",
        "df_petal"
      ],
      "execution_count": null,
      "outputs": [
        {
          "output_type": "execute_result",
          "data": {
            "text/plain": [
              "0     1.4\n",
              "1     1.4\n",
              "2     1.3\n",
              "3     1.5\n",
              "4     1.4\n",
              "     ... \n",
              "95    4.2\n",
              "96    4.2\n",
              "97    4.3\n",
              "98    3.0\n",
              "99    4.1\n",
              "Name: 2, Length: 100, dtype: float64"
            ]
          },
          "metadata": {
            "tags": []
          },
          "execution_count": 5
        }
      ]
    },
    {
      "cell_type": "code",
      "metadata": {
        "id": "Pc134JX0zfsc",
        "colab_type": "code",
        "colab": {
          "base_uri": "https://localhost:8080/",
          "height": 221
        },
        "outputId": "53c2e770-e5c9-468a-fada-f8c8ed7fb5a0"
      },
      "source": [
        "#品種名の列を抽出\n",
        "df_name = df.iloc[:, 4]\n",
        "df_name"
      ],
      "execution_count": null,
      "outputs": [
        {
          "output_type": "execute_result",
          "data": {
            "text/plain": [
              "0         Iris-setosa\n",
              "1         Iris-setosa\n",
              "2         Iris-setosa\n",
              "3         Iris-setosa\n",
              "4         Iris-setosa\n",
              "           ...       \n",
              "95    Iris-versicolor\n",
              "96    Iris-versicolor\n",
              "97    Iris-versicolor\n",
              "98    Iris-versicolor\n",
              "99    Iris-versicolor\n",
              "Name: 4, Length: 100, dtype: object"
            ]
          },
          "metadata": {
            "tags": []
          },
          "execution_count": 6
        }
      ]
    },
    {
      "cell_type": "code",
      "metadata": {
        "id": "FjVdZ8d90B4U",
        "colab_type": "code",
        "colab": {
          "base_uri": "https://localhost:8080/",
          "height": 419
        },
        "outputId": "407ab3ec-bd46-4ecd-aeff-ea7bbd802298"
      },
      "source": [
        "#ダミー関数\n",
        "df_dummie = pd.get_dummies(df_name)\n",
        "df_dummie"
      ],
      "execution_count": null,
      "outputs": [
        {
          "output_type": "execute_result",
          "data": {
            "text/html": [
              "<div>\n",
              "<style scoped>\n",
              "    .dataframe tbody tr th:only-of-type {\n",
              "        vertical-align: middle;\n",
              "    }\n",
              "\n",
              "    .dataframe tbody tr th {\n",
              "        vertical-align: top;\n",
              "    }\n",
              "\n",
              "    .dataframe thead th {\n",
              "        text-align: right;\n",
              "    }\n",
              "</style>\n",
              "<table border=\"1\" class=\"dataframe\">\n",
              "  <thead>\n",
              "    <tr style=\"text-align: right;\">\n",
              "      <th></th>\n",
              "      <th>Iris-setosa</th>\n",
              "      <th>Iris-versicolor</th>\n",
              "    </tr>\n",
              "  </thead>\n",
              "  <tbody>\n",
              "    <tr>\n",
              "      <th>0</th>\n",
              "      <td>1</td>\n",
              "      <td>0</td>\n",
              "    </tr>\n",
              "    <tr>\n",
              "      <th>1</th>\n",
              "      <td>1</td>\n",
              "      <td>0</td>\n",
              "    </tr>\n",
              "    <tr>\n",
              "      <th>2</th>\n",
              "      <td>1</td>\n",
              "      <td>0</td>\n",
              "    </tr>\n",
              "    <tr>\n",
              "      <th>3</th>\n",
              "      <td>1</td>\n",
              "      <td>0</td>\n",
              "    </tr>\n",
              "    <tr>\n",
              "      <th>4</th>\n",
              "      <td>1</td>\n",
              "      <td>0</td>\n",
              "    </tr>\n",
              "    <tr>\n",
              "      <th>...</th>\n",
              "      <td>...</td>\n",
              "      <td>...</td>\n",
              "    </tr>\n",
              "    <tr>\n",
              "      <th>95</th>\n",
              "      <td>0</td>\n",
              "      <td>1</td>\n",
              "    </tr>\n",
              "    <tr>\n",
              "      <th>96</th>\n",
              "      <td>0</td>\n",
              "      <td>1</td>\n",
              "    </tr>\n",
              "    <tr>\n",
              "      <th>97</th>\n",
              "      <td>0</td>\n",
              "      <td>1</td>\n",
              "    </tr>\n",
              "    <tr>\n",
              "      <th>98</th>\n",
              "      <td>0</td>\n",
              "      <td>1</td>\n",
              "    </tr>\n",
              "    <tr>\n",
              "      <th>99</th>\n",
              "      <td>0</td>\n",
              "      <td>1</td>\n",
              "    </tr>\n",
              "  </tbody>\n",
              "</table>\n",
              "<p>100 rows × 2 columns</p>\n",
              "</div>"
            ],
            "text/plain": [
              "    Iris-setosa  Iris-versicolor\n",
              "0             1                0\n",
              "1             1                0\n",
              "2             1                0\n",
              "3             1                0\n",
              "4             1                0\n",
              "..          ...              ...\n",
              "95            0                1\n",
              "96            0                1\n",
              "97            0                1\n",
              "98            0                1\n",
              "99            0                1\n",
              "\n",
              "[100 rows x 2 columns]"
            ]
          },
          "metadata": {
            "tags": []
          },
          "execution_count": 7
        }
      ]
    },
    {
      "cell_type": "code",
      "metadata": {
        "id": "ZaBc1LH90Ze2",
        "colab_type": "code",
        "colab": {
          "base_uri": "https://localhost:8080/",
          "height": 221
        },
        "outputId": "3ac81642-7da5-4589-b6d7-0d4a3547bea0"
      },
      "source": [
        "#Iris-setosaを1、Iris-versicolorを0とした\n",
        "df_cla = df_dummie.iloc[:, 0]\n",
        "df_cla"
      ],
      "execution_count": null,
      "outputs": [
        {
          "output_type": "execute_result",
          "data": {
            "text/plain": [
              "0     1\n",
              "1     1\n",
              "2     1\n",
              "3     1\n",
              "4     1\n",
              "     ..\n",
              "95    0\n",
              "96    0\n",
              "97    0\n",
              "98    0\n",
              "99    0\n",
              "Name: Iris-setosa, Length: 100, dtype: uint8"
            ]
          },
          "metadata": {
            "tags": []
          },
          "execution_count": 8
        }
      ]
    },
    {
      "cell_type": "code",
      "metadata": {
        "id": "berE7qLt2Njt",
        "colab_type": "code",
        "colab": {
          "base_uri": "https://localhost:8080/",
          "height": 221
        },
        "outputId": "6ebcd45c-537f-4750-d4ea-78914abcf525"
      },
      "source": [
        "#重み更新に用いるための列を作成\n",
        "df_one = np.ones(100)\n",
        "df_one = pd.Series(df_one)\n",
        "df_one"
      ],
      "execution_count": null,
      "outputs": [
        {
          "output_type": "execute_result",
          "data": {
            "text/plain": [
              "0     1.0\n",
              "1     1.0\n",
              "2     1.0\n",
              "3     1.0\n",
              "4     1.0\n",
              "     ... \n",
              "95    1.0\n",
              "96    1.0\n",
              "97    1.0\n",
              "98    1.0\n",
              "99    1.0\n",
              "Length: 100, dtype: float64"
            ]
          },
          "metadata": {
            "tags": []
          },
          "execution_count": 9
        }
      ]
    },
    {
      "cell_type": "code",
      "metadata": {
        "id": "EK2OzwC83zZX",
        "colab_type": "code",
        "colab": {
          "base_uri": "https://localhost:8080/",
          "height": 419
        },
        "outputId": "97147dc1-b018-4242-e7c1-3915282760b9"
      },
      "source": [
        "#額の長さ、花弁の長さ、重み計算用の列データを統合\n",
        "df_length = pd.concat([df_sepal, df_petal, df_one], axis=1, ignore_index=True)\n",
        "df_length"
      ],
      "execution_count": null,
      "outputs": [
        {
          "output_type": "execute_result",
          "data": {
            "text/html": [
              "<div>\n",
              "<style scoped>\n",
              "    .dataframe tbody tr th:only-of-type {\n",
              "        vertical-align: middle;\n",
              "    }\n",
              "\n",
              "    .dataframe tbody tr th {\n",
              "        vertical-align: top;\n",
              "    }\n",
              "\n",
              "    .dataframe thead th {\n",
              "        text-align: right;\n",
              "    }\n",
              "</style>\n",
              "<table border=\"1\" class=\"dataframe\">\n",
              "  <thead>\n",
              "    <tr style=\"text-align: right;\">\n",
              "      <th></th>\n",
              "      <th>0</th>\n",
              "      <th>1</th>\n",
              "      <th>2</th>\n",
              "    </tr>\n",
              "  </thead>\n",
              "  <tbody>\n",
              "    <tr>\n",
              "      <th>0</th>\n",
              "      <td>5.1</td>\n",
              "      <td>1.4</td>\n",
              "      <td>1.0</td>\n",
              "    </tr>\n",
              "    <tr>\n",
              "      <th>1</th>\n",
              "      <td>4.9</td>\n",
              "      <td>1.4</td>\n",
              "      <td>1.0</td>\n",
              "    </tr>\n",
              "    <tr>\n",
              "      <th>2</th>\n",
              "      <td>4.7</td>\n",
              "      <td>1.3</td>\n",
              "      <td>1.0</td>\n",
              "    </tr>\n",
              "    <tr>\n",
              "      <th>3</th>\n",
              "      <td>4.6</td>\n",
              "      <td>1.5</td>\n",
              "      <td>1.0</td>\n",
              "    </tr>\n",
              "    <tr>\n",
              "      <th>4</th>\n",
              "      <td>5.0</td>\n",
              "      <td>1.4</td>\n",
              "      <td>1.0</td>\n",
              "    </tr>\n",
              "    <tr>\n",
              "      <th>...</th>\n",
              "      <td>...</td>\n",
              "      <td>...</td>\n",
              "      <td>...</td>\n",
              "    </tr>\n",
              "    <tr>\n",
              "      <th>95</th>\n",
              "      <td>5.7</td>\n",
              "      <td>4.2</td>\n",
              "      <td>1.0</td>\n",
              "    </tr>\n",
              "    <tr>\n",
              "      <th>96</th>\n",
              "      <td>5.7</td>\n",
              "      <td>4.2</td>\n",
              "      <td>1.0</td>\n",
              "    </tr>\n",
              "    <tr>\n",
              "      <th>97</th>\n",
              "      <td>6.2</td>\n",
              "      <td>4.3</td>\n",
              "      <td>1.0</td>\n",
              "    </tr>\n",
              "    <tr>\n",
              "      <th>98</th>\n",
              "      <td>5.1</td>\n",
              "      <td>3.0</td>\n",
              "      <td>1.0</td>\n",
              "    </tr>\n",
              "    <tr>\n",
              "      <th>99</th>\n",
              "      <td>5.7</td>\n",
              "      <td>4.1</td>\n",
              "      <td>1.0</td>\n",
              "    </tr>\n",
              "  </tbody>\n",
              "</table>\n",
              "<p>100 rows × 3 columns</p>\n",
              "</div>"
            ],
            "text/plain": [
              "      0    1    2\n",
              "0   5.1  1.4  1.0\n",
              "1   4.9  1.4  1.0\n",
              "2   4.7  1.3  1.0\n",
              "3   4.6  1.5  1.0\n",
              "4   5.0  1.4  1.0\n",
              "..  ...  ...  ...\n",
              "95  5.7  4.2  1.0\n",
              "96  5.7  4.2  1.0\n",
              "97  6.2  4.3  1.0\n",
              "98  5.1  3.0  1.0\n",
              "99  5.7  4.1  1.0\n",
              "\n",
              "[100 rows x 3 columns]"
            ]
          },
          "metadata": {
            "tags": []
          },
          "execution_count": 10
        }
      ]
    },
    {
      "cell_type": "code",
      "metadata": {
        "id": "ISccns-Ej7iM",
        "colab_type": "code",
        "colab": {
          "base_uri": "https://localhost:8080/",
          "height": 1000
        },
        "outputId": "165ec55f-ff26-484c-af49-df41d0f81e2b"
      },
      "source": [
        "#上記テーブルデータをnumpy.arrayに変換\n",
        "df_length = df_length.to_numpy()\n",
        "df_length = df_length.tolist()\n",
        "df_length"
      ],
      "execution_count": null,
      "outputs": [
        {
          "output_type": "execute_result",
          "data": {
            "text/plain": [
              "[[5.1, 1.4, 1.0],\n",
              " [4.9, 1.4, 1.0],\n",
              " [4.7, 1.3, 1.0],\n",
              " [4.6, 1.5, 1.0],\n",
              " [5.0, 1.4, 1.0],\n",
              " [5.4, 1.7, 1.0],\n",
              " [4.6, 1.4, 1.0],\n",
              " [5.0, 1.5, 1.0],\n",
              " [4.4, 1.4, 1.0],\n",
              " [4.9, 1.5, 1.0],\n",
              " [5.4, 1.5, 1.0],\n",
              " [4.8, 1.6, 1.0],\n",
              " [4.8, 1.4, 1.0],\n",
              " [4.3, 1.1, 1.0],\n",
              " [5.8, 1.2, 1.0],\n",
              " [5.7, 1.5, 1.0],\n",
              " [5.4, 1.3, 1.0],\n",
              " [5.1, 1.4, 1.0],\n",
              " [5.7, 1.7, 1.0],\n",
              " [5.1, 1.5, 1.0],\n",
              " [5.4, 1.7, 1.0],\n",
              " [5.1, 1.5, 1.0],\n",
              " [4.6, 1.0, 1.0],\n",
              " [5.1, 1.7, 1.0],\n",
              " [4.8, 1.9, 1.0],\n",
              " [5.0, 1.6, 1.0],\n",
              " [5.0, 1.6, 1.0],\n",
              " [5.2, 1.5, 1.0],\n",
              " [5.2, 1.4, 1.0],\n",
              " [4.7, 1.6, 1.0],\n",
              " [4.8, 1.6, 1.0],\n",
              " [5.4, 1.5, 1.0],\n",
              " [5.2, 1.5, 1.0],\n",
              " [5.5, 1.4, 1.0],\n",
              " [4.9, 1.5, 1.0],\n",
              " [5.0, 1.2, 1.0],\n",
              " [5.5, 1.3, 1.0],\n",
              " [4.9, 1.5, 1.0],\n",
              " [4.4, 1.3, 1.0],\n",
              " [5.1, 1.5, 1.0],\n",
              " [5.0, 1.3, 1.0],\n",
              " [4.5, 1.3, 1.0],\n",
              " [4.4, 1.3, 1.0],\n",
              " [5.0, 1.6, 1.0],\n",
              " [5.1, 1.9, 1.0],\n",
              " [4.8, 1.4, 1.0],\n",
              " [5.1, 1.6, 1.0],\n",
              " [4.6, 1.4, 1.0],\n",
              " [5.3, 1.5, 1.0],\n",
              " [5.0, 1.4, 1.0],\n",
              " [7.0, 4.7, 1.0],\n",
              " [6.4, 4.5, 1.0],\n",
              " [6.9, 4.9, 1.0],\n",
              " [5.5, 4.0, 1.0],\n",
              " [6.5, 4.6, 1.0],\n",
              " [5.7, 4.5, 1.0],\n",
              " [6.3, 4.7, 1.0],\n",
              " [4.9, 3.3, 1.0],\n",
              " [6.6, 4.6, 1.0],\n",
              " [5.2, 3.9, 1.0],\n",
              " [5.0, 3.5, 1.0],\n",
              " [5.9, 4.2, 1.0],\n",
              " [6.0, 4.0, 1.0],\n",
              " [6.1, 4.7, 1.0],\n",
              " [5.6, 3.6, 1.0],\n",
              " [6.7, 4.4, 1.0],\n",
              " [5.6, 4.5, 1.0],\n",
              " [5.8, 4.1, 1.0],\n",
              " [6.2, 4.5, 1.0],\n",
              " [5.6, 3.9, 1.0],\n",
              " [5.9, 4.8, 1.0],\n",
              " [6.1, 4.0, 1.0],\n",
              " [6.3, 4.9, 1.0],\n",
              " [6.1, 4.7, 1.0],\n",
              " [6.4, 4.3, 1.0],\n",
              " [6.6, 4.4, 1.0],\n",
              " [6.8, 4.8, 1.0],\n",
              " [6.7, 5.0, 1.0],\n",
              " [6.0, 4.5, 1.0],\n",
              " [5.7, 3.5, 1.0],\n",
              " [5.5, 3.8, 1.0],\n",
              " [5.5, 3.7, 1.0],\n",
              " [5.8, 3.9, 1.0],\n",
              " [6.0, 5.1, 1.0],\n",
              " [5.4, 4.5, 1.0],\n",
              " [6.0, 4.5, 1.0],\n",
              " [6.7, 4.7, 1.0],\n",
              " [6.3, 4.4, 1.0],\n",
              " [5.6, 4.1, 1.0],\n",
              " [5.5, 4.0, 1.0],\n",
              " [5.5, 4.4, 1.0],\n",
              " [6.1, 4.6, 1.0],\n",
              " [5.8, 4.0, 1.0],\n",
              " [5.0, 3.3, 1.0],\n",
              " [5.6, 4.2, 1.0],\n",
              " [5.7, 4.2, 1.0],\n",
              " [5.7, 4.2, 1.0],\n",
              " [6.2, 4.3, 1.0],\n",
              " [5.1, 3.0, 1.0],\n",
              " [5.7, 4.1, 1.0]]"
            ]
          },
          "metadata": {
            "tags": []
          },
          "execution_count": 11
        }
      ]
    },
    {
      "cell_type": "code",
      "metadata": {
        "id": "PlE_cWmF-xQi",
        "colab_type": "code",
        "colab": {
          "base_uri": "https://localhost:8080/",
          "height": 419
        },
        "outputId": "287bdedc-acc8-4db1-f658-450eae568586"
      },
      "source": [
        "#もとのデータの列名を以下のように変更\n",
        "pd.set_option('display.max_rows', 10)\n",
        "df.columns = ['setal_length', 'setal_width', 'pepal_length', 'pepal_width', 'name']\n",
        "df"
      ],
      "execution_count": null,
      "outputs": [
        {
          "output_type": "execute_result",
          "data": {
            "text/html": [
              "<div>\n",
              "<style scoped>\n",
              "    .dataframe tbody tr th:only-of-type {\n",
              "        vertical-align: middle;\n",
              "    }\n",
              "\n",
              "    .dataframe tbody tr th {\n",
              "        vertical-align: top;\n",
              "    }\n",
              "\n",
              "    .dataframe thead th {\n",
              "        text-align: right;\n",
              "    }\n",
              "</style>\n",
              "<table border=\"1\" class=\"dataframe\">\n",
              "  <thead>\n",
              "    <tr style=\"text-align: right;\">\n",
              "      <th></th>\n",
              "      <th>setal_length</th>\n",
              "      <th>setal_width</th>\n",
              "      <th>pepal_length</th>\n",
              "      <th>pepal_width</th>\n",
              "      <th>name</th>\n",
              "    </tr>\n",
              "  </thead>\n",
              "  <tbody>\n",
              "    <tr>\n",
              "      <th>0</th>\n",
              "      <td>5.1</td>\n",
              "      <td>3.5</td>\n",
              "      <td>1.4</td>\n",
              "      <td>0.2</td>\n",
              "      <td>Iris-setosa</td>\n",
              "    </tr>\n",
              "    <tr>\n",
              "      <th>1</th>\n",
              "      <td>4.9</td>\n",
              "      <td>3.0</td>\n",
              "      <td>1.4</td>\n",
              "      <td>0.2</td>\n",
              "      <td>Iris-setosa</td>\n",
              "    </tr>\n",
              "    <tr>\n",
              "      <th>2</th>\n",
              "      <td>4.7</td>\n",
              "      <td>3.2</td>\n",
              "      <td>1.3</td>\n",
              "      <td>0.2</td>\n",
              "      <td>Iris-setosa</td>\n",
              "    </tr>\n",
              "    <tr>\n",
              "      <th>3</th>\n",
              "      <td>4.6</td>\n",
              "      <td>3.1</td>\n",
              "      <td>1.5</td>\n",
              "      <td>0.2</td>\n",
              "      <td>Iris-setosa</td>\n",
              "    </tr>\n",
              "    <tr>\n",
              "      <th>4</th>\n",
              "      <td>5.0</td>\n",
              "      <td>3.6</td>\n",
              "      <td>1.4</td>\n",
              "      <td>0.2</td>\n",
              "      <td>Iris-setosa</td>\n",
              "    </tr>\n",
              "    <tr>\n",
              "      <th>...</th>\n",
              "      <td>...</td>\n",
              "      <td>...</td>\n",
              "      <td>...</td>\n",
              "      <td>...</td>\n",
              "      <td>...</td>\n",
              "    </tr>\n",
              "    <tr>\n",
              "      <th>95</th>\n",
              "      <td>5.7</td>\n",
              "      <td>3.0</td>\n",
              "      <td>4.2</td>\n",
              "      <td>1.2</td>\n",
              "      <td>Iris-versicolor</td>\n",
              "    </tr>\n",
              "    <tr>\n",
              "      <th>96</th>\n",
              "      <td>5.7</td>\n",
              "      <td>2.9</td>\n",
              "      <td>4.2</td>\n",
              "      <td>1.3</td>\n",
              "      <td>Iris-versicolor</td>\n",
              "    </tr>\n",
              "    <tr>\n",
              "      <th>97</th>\n",
              "      <td>6.2</td>\n",
              "      <td>2.9</td>\n",
              "      <td>4.3</td>\n",
              "      <td>1.3</td>\n",
              "      <td>Iris-versicolor</td>\n",
              "    </tr>\n",
              "    <tr>\n",
              "      <th>98</th>\n",
              "      <td>5.1</td>\n",
              "      <td>2.5</td>\n",
              "      <td>3.0</td>\n",
              "      <td>1.1</td>\n",
              "      <td>Iris-versicolor</td>\n",
              "    </tr>\n",
              "    <tr>\n",
              "      <th>99</th>\n",
              "      <td>5.7</td>\n",
              "      <td>2.8</td>\n",
              "      <td>4.1</td>\n",
              "      <td>1.3</td>\n",
              "      <td>Iris-versicolor</td>\n",
              "    </tr>\n",
              "  </tbody>\n",
              "</table>\n",
              "<p>100 rows × 5 columns</p>\n",
              "</div>"
            ],
            "text/plain": [
              "    setal_length  setal_width  pepal_length  pepal_width             name\n",
              "0            5.1          3.5           1.4          0.2      Iris-setosa\n",
              "1            4.9          3.0           1.4          0.2      Iris-setosa\n",
              "2            4.7          3.2           1.3          0.2      Iris-setosa\n",
              "3            4.6          3.1           1.5          0.2      Iris-setosa\n",
              "4            5.0          3.6           1.4          0.2      Iris-setosa\n",
              "..           ...          ...           ...          ...              ...\n",
              "95           5.7          3.0           4.2          1.2  Iris-versicolor\n",
              "96           5.7          2.9           4.2          1.3  Iris-versicolor\n",
              "97           6.2          2.9           4.3          1.3  Iris-versicolor\n",
              "98           5.1          2.5           3.0          1.1  Iris-versicolor\n",
              "99           5.7          2.8           4.1          1.3  Iris-versicolor\n",
              "\n",
              "[100 rows x 5 columns]"
            ]
          },
          "metadata": {
            "tags": []
          },
          "execution_count": 12
        }
      ]
    },
    {
      "cell_type": "code",
      "metadata": {
        "id": "ol_9DGLlp29T",
        "colab_type": "code",
        "colab": {
          "base_uri": "https://localhost:8080/",
          "height": 85
        },
        "outputId": "8d44ad9c-44ae-4bd5-925f-c8313ea48c09"
      },
      "source": [
        "#確認用のグラフ作成のために別途データを抽出(iris-setosa)\n",
        "df_setosa = df.iloc[:50, :]\n",
        "df_setosa_setal_length = df_setosa.iloc[:, 0]\n",
        "df_setosa_petal_length = df_setosa.iloc[:, 2]\n",
        "df_setosa_setal_length.to_numpy()\n",
        "df_setosa_petal_length.to_numpy()"
      ],
      "execution_count": null,
      "outputs": [
        {
          "output_type": "execute_result",
          "data": {
            "text/plain": [
              "array([1.4, 1.4, 1.3, 1.5, 1.4, 1.7, 1.4, 1.5, 1.4, 1.5, 1.5, 1.6, 1.4,\n",
              "       1.1, 1.2, 1.5, 1.3, 1.4, 1.7, 1.5, 1.7, 1.5, 1. , 1.7, 1.9, 1.6,\n",
              "       1.6, 1.5, 1.4, 1.6, 1.6, 1.5, 1.5, 1.4, 1.5, 1.2, 1.3, 1.5, 1.3,\n",
              "       1.5, 1.3, 1.3, 1.3, 1.6, 1.9, 1.4, 1.6, 1.4, 1.5, 1.4])"
            ]
          },
          "metadata": {
            "tags": []
          },
          "execution_count": 13
        }
      ]
    },
    {
      "cell_type": "code",
      "metadata": {
        "id": "EzMJ-yz6ua-1",
        "colab_type": "code",
        "colab": {
          "base_uri": "https://localhost:8080/",
          "height": 85
        },
        "outputId": "33a34770-24d6-4901-af64-a9499040e0f8"
      },
      "source": [
        "#確認用のグラフ作成のために別途データを抽出(iris-versicolor)\n",
        "df_versicolor = df.iloc[50:100, :]\n",
        "df_versicolor_setal_length = df_versicolor.iloc[:, 0]\n",
        "df_versicolor_petal_length = df_versicolor.iloc[:, 2]\n",
        "df_versicolor_setal_length.to_numpy()\n",
        "df_versicolor_petal_length.to_numpy()"
      ],
      "execution_count": null,
      "outputs": [
        {
          "output_type": "execute_result",
          "data": {
            "text/plain": [
              "array([4.7, 4.5, 4.9, 4. , 4.6, 4.5, 4.7, 3.3, 4.6, 3.9, 3.5, 4.2, 4. ,\n",
              "       4.7, 3.6, 4.4, 4.5, 4.1, 4.5, 3.9, 4.8, 4. , 4.9, 4.7, 4.3, 4.4,\n",
              "       4.8, 5. , 4.5, 3.5, 3.8, 3.7, 3.9, 5.1, 4.5, 4.5, 4.7, 4.4, 4.1,\n",
              "       4. , 4.4, 4.6, 4. , 3.3, 4.2, 4.2, 4.2, 4.3, 3. , 4.1])"
            ]
          },
          "metadata": {
            "tags": []
          },
          "execution_count": 14
        }
      ]
    },
    {
      "cell_type": "markdown",
      "metadata": {
        "id": "qEpNtIG7fpRE",
        "colab_type": "text"
      },
      "source": [
        "<h3>以下本題の単純パーセプトロンのコード及びその結果</h3>"
      ]
    },
    {
      "cell_type": "code",
      "metadata": {
        "id": "cyz-c8utFJhc",
        "colab_type": "code",
        "colab": {
          "base_uri": "https://localhost:8080/",
          "height": 534
        },
        "outputId": "4f711057-901f-49ca-e408-2f827be9a30c"
      },
      "source": [
        "\n",
        "#学習率\n",
        "eta = 0.01\n",
        "# weight = np.random.rand(3)\n",
        "#重み初期値\n",
        "weight = [0.5, 0.5, 0.5]\n",
        "\n",
        "epoch = 100\n",
        "counter = 0\n",
        "y = []\n",
        "\n",
        "#行列計算\n",
        "def inputs(data, weight):\n",
        "  # print(np.dot(data, weight))\n",
        "  return np.dot(data, weight)\n",
        "\n",
        "\n",
        "def output(data, weight):\n",
        "  return step(inputs(data, weight))\n",
        "\n",
        "#活性化関数\n",
        "def step(train):\n",
        "  if train <=0:\n",
        "    x = 0\n",
        "  else:\n",
        "    x = 1\n",
        "  # print(x)\n",
        "  return x\n",
        "\n",
        "#誤差\n",
        "def error(ans, out):\n",
        "  # print(ans)\n",
        "  return ans - out\n",
        "\n",
        "#重みの更新\n",
        "def update(weight, err, data):\n",
        "  for n in range(len(data)):\n",
        "     weight[n] += eta * e * data[n]   \n",
        "  return weight\n",
        "\n",
        "\n",
        "#学習\n",
        "for i in range(epoch):\n",
        "  counter = 0\n",
        "  for row in range(len(df_cla)): \n",
        "    e = error(df_cla[row], output(df_length[row], weight))\n",
        "    #間違えた個数を記録\n",
        "    if e != 0:\n",
        "      counter += 1\n",
        "    # print(e)\n",
        "    update(weight, e, df_length[row])\n",
        "  #100回ごとに間違えた個数を表示\n",
        "  print(i+1, \"/\", epoch, \" epoch.\", sep='')\n",
        "  print(\"error\", counter)\n",
        "  if counter == 0:\n",
        "    break\n",
        "#重みの最終結果\n",
        "print(\"weight\", weight, sep='')\n",
        "\n",
        "\n",
        "#グラフ描写\n",
        "#最終的な重みを用いて算出したステップ関数の数値ごとに分類したもの\n",
        "for row in range(len(df_length)):\n",
        "  # print(df_length[row])\n",
        "  n = output(df_length[row], weight)\n",
        "  if n == 1:\n",
        "    plt.scatter(df_length[row][0], df_length[row][1], c = \"red\", marker = 'o')\n",
        "  else:\n",
        "    plt.scatter(df_length[row][0], df_length[row][1], c = \"blue\", marker = 'x')\n",
        "\n",
        "#境界線\n",
        "x = (4, 7)\n",
        "for c in x:\n",
        "  y.append(-((weight[1]/weight[0])*c + (weight[2]/weight[0])))\n",
        "\n",
        "\n",
        "#グラフ出力\n",
        "plt.plot(x, y)\n",
        "plt.xlabel(\"pepal length(cm)\")\n",
        "plt.ylabel(\"setal length(cm)\");"
      ],
      "execution_count": null,
      "outputs": [
        {
          "output_type": "stream",
          "text": [
            "1/100 epoch.\n",
            "error 11\n",
            "2/100 epoch.\n",
            "error 3\n",
            "3/100 epoch.\n",
            "error 3\n",
            "4/100 epoch.\n",
            "error 2\n",
            "5/100 epoch.\n",
            "error 2\n",
            "6/100 epoch.\n",
            "error 1\n",
            "7/100 epoch.\n",
            "error 0\n",
            "weight[-0.0570000000000001, -0.049999999999999906, 0.41999999999999993]\n"
          ],
          "name": "stdout"
        },
        {
          "output_type": "display_data",
          "data": {
            "image/png": "[encoded data removed]",
            "text/plain": [
              "<Figure size 432x288 with 1 Axes>"
            ]
          },
          "metadata": {
            "tags": [],
            "needs_background": "light"
          }
        }
      ]
    },
    {
      "cell_type": "code",
      "metadata": {
        "id": "8Gva1gu05VwF",
        "colab_type": "code",
        "colab": {
          "base_uri": "https://localhost:8080/",
          "height": 279
        },
        "outputId": "660de39f-72eb-4344-e39e-b4e1853a1d6d"
      },
      "source": [
        "#元データをラベルごとに分類したもの\n",
        "plt.scatter(df_setosa_setal_length, df_setosa_petal_length, color='green')\n",
        "plt.scatter(df_versicolor_setal_length, df_versicolor_petal_length, color='orange', marker='x')\n",
        "plt.xlabel(\"pepal length(cm)\")\n",
        "plt.ylabel(\"setal length(cm)\");"
      ],
      "execution_count": null,
      "outputs": [
        {
          "output_type": "display_data",
          "data": {
            "image/png": "[encoded data removed]",
            "text/plain": [
              "<Figure size 432x288 with 1 Axes>"
            ]
          },
          "metadata": {
            "tags": [],
            "needs_background": "light"
          }
        }
      ]
    },
    {
      "cell_type": "code",
      "metadata": {
        "id": "odi3ibSg7ldP",
        "colab_type": "code",
        "colab": {}
      },
      "source": [
        ""
      ],
      "execution_count": null,
      "outputs": []
    }
  ]
}